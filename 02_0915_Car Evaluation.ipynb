{
 "cells": [
  {
   "cell_type": "code",
   "execution_count": 1,
   "id": "198f7bd2",
   "metadata": {},
   "outputs": [],
   "source": [
    "import numpy as np\n",
    "import pandas as pd\n",
    "import seaborn as sns\n",
    "import matplotlib.pyplot as plt\n",
    "\n",
    "import warnings\n",
    "warnings.filterwarnings('ignore')"
   ]
  },
  {
   "cell_type": "code",
   "execution_count": 2,
   "id": "9db0f176",
   "metadata": {},
   "outputs": [
    {
     "data": {
      "text/html": [
       "<div>\n",
       "<style scoped>\n",
       "    .dataframe tbody tr th:only-of-type {\n",
       "        vertical-align: middle;\n",
       "    }\n",
       "\n",
       "    .dataframe tbody tr th {\n",
       "        vertical-align: top;\n",
       "    }\n",
       "\n",
       "    .dataframe thead th {\n",
       "        text-align: right;\n",
       "    }\n",
       "</style>\n",
       "<table border=\"1\" class=\"dataframe\">\n",
       "  <thead>\n",
       "    <tr style=\"text-align: right;\">\n",
       "      <th></th>\n",
       "      <th>Buying</th>\n",
       "      <th>Maint</th>\n",
       "      <th>Doors</th>\n",
       "      <th>Persons</th>\n",
       "      <th>Lug_Boot</th>\n",
       "      <th>Safety</th>\n",
       "      <th>Class</th>\n",
       "    </tr>\n",
       "  </thead>\n",
       "  <tbody>\n",
       "    <tr>\n",
       "      <th>0</th>\n",
       "      <td>vhigh</td>\n",
       "      <td>vhigh</td>\n",
       "      <td>2</td>\n",
       "      <td>2</td>\n",
       "      <td>small</td>\n",
       "      <td>low</td>\n",
       "      <td>unacc</td>\n",
       "    </tr>\n",
       "    <tr>\n",
       "      <th>1</th>\n",
       "      <td>vhigh</td>\n",
       "      <td>vhigh</td>\n",
       "      <td>2</td>\n",
       "      <td>2</td>\n",
       "      <td>small</td>\n",
       "      <td>med</td>\n",
       "      <td>unacc</td>\n",
       "    </tr>\n",
       "    <tr>\n",
       "      <th>2</th>\n",
       "      <td>vhigh</td>\n",
       "      <td>vhigh</td>\n",
       "      <td>2</td>\n",
       "      <td>2</td>\n",
       "      <td>small</td>\n",
       "      <td>high</td>\n",
       "      <td>unacc</td>\n",
       "    </tr>\n",
       "    <tr>\n",
       "      <th>3</th>\n",
       "      <td>vhigh</td>\n",
       "      <td>vhigh</td>\n",
       "      <td>2</td>\n",
       "      <td>2</td>\n",
       "      <td>med</td>\n",
       "      <td>low</td>\n",
       "      <td>unacc</td>\n",
       "    </tr>\n",
       "    <tr>\n",
       "      <th>4</th>\n",
       "      <td>vhigh</td>\n",
       "      <td>vhigh</td>\n",
       "      <td>2</td>\n",
       "      <td>2</td>\n",
       "      <td>med</td>\n",
       "      <td>med</td>\n",
       "      <td>unacc</td>\n",
       "    </tr>\n",
       "  </tbody>\n",
       "</table>\n",
       "</div>"
      ],
      "text/plain": [
       "  Buying  Maint Doors Persons Lug_Boot Safety  Class\n",
       "0  vhigh  vhigh     2       2    small    low  unacc\n",
       "1  vhigh  vhigh     2       2    small    med  unacc\n",
       "2  vhigh  vhigh     2       2    small   high  unacc\n",
       "3  vhigh  vhigh     2       2      med    low  unacc\n",
       "4  vhigh  vhigh     2       2      med    med  unacc"
      ]
     },
     "execution_count": 2,
     "metadata": {},
     "output_type": "execute_result"
    }
   ],
   "source": [
    "# Specify the File Path\n",
    "file_path = '/Users/kwonheejin/Documents/딥러닝 응용/데이터 셋/car+evaluation/car.data'\n",
    "\n",
    "# Load File \n",
    "data = pd.read_csv(file_path, header=None)\n",
    "\n",
    "column_names = ['Buying', 'Maint', 'Doors', 'Persons', 'Lug_Boot', 'Safety','Class']\n",
    "\n",
    "# 데이터프레임에 컬럼 이름 설정\n",
    "data.columns = column_names\n",
    "\n",
    "# A quick view\n",
    "data.head()"
   ]
  },
  {
   "cell_type": "code",
   "execution_count": 3,
   "id": "d608077d",
   "metadata": {},
   "outputs": [
    {
     "data": {
      "text/plain": [
       "Text(0.5, 1.0, 'Label')"
      ]
     },
     "execution_count": 3,
     "metadata": {},
     "output_type": "execute_result"
    },
    {
     "data": {
      "image/png": "[encoded data removed]",
      "text/plain": [
       "<Figure size 640x480 with 1 Axes>"
      ]
     },
     "metadata": {},
     "output_type": "display_data"
    }
   ],
   "source": [
    "sns.countplot(data = data, x=\"Class\")\n",
    "plt.xlabel(\"diabetes or no\")\n",
    "plt.ylabel(\"Count\")\n",
    "plt.title(\"Label\")"
   ]
  },
  {
   "cell_type": "code",
   "execution_count": 4,
   "id": "2b49cb9a",
   "metadata": {},
   "outputs": [
    {
     "name": "stdout",
     "output_type": "stream",
     "text": [
      "<class 'pandas.core.frame.DataFrame'>\n",
      "RangeIndex: 1728 entries, 0 to 1727\n",
      "Data columns (total 7 columns):\n",
      " #   Column    Non-Null Count  Dtype \n",
      "---  ------    --------------  ----- \n",
      " 0   Buying    1728 non-null   object\n",
      " 1   Maint     1728 non-null   object\n",
      " 2   Doors     1728 non-null   object\n",
      " 3   Persons   1728 non-null   object\n",
      " 4   Lug_Boot  1728 non-null   object\n",
      " 5   Safety    1728 non-null   object\n",
      " 6   Class     1728 non-null   object\n",
      "dtypes: object(7)\n",
      "memory usage: 94.6+ KB\n"
     ]
    }
   ],
   "source": [
    "data.info()"
   ]
  },
  {
   "cell_type": "code",
   "execution_count": 5,
   "id": "c62db768",
   "metadata": {},
   "outputs": [],
   "source": [
    "from sklearn.preprocessing import LabelEncoder\n",
    "\n",
    "le=LabelEncoder()\n",
    "\n",
    "for i in data.columns:\n",
    "\n",
    "    data[i]=le.fit_transform(data[i])"
   ]
  },
  {
   "cell_type": "code",
   "execution_count": 6,
   "id": "32383545",
   "metadata": {},
   "outputs": [
    {
     "data": {
      "text/plain": [
       "Buying      0\n",
       "Maint       0\n",
       "Doors       0\n",
       "Persons     0\n",
       "Lug_Boot    0\n",
       "Safety      0\n",
       "Class       0\n",
       "dtype: int64"
      ]
     },
     "execution_count": 6,
     "metadata": {},
     "output_type": "execute_result"
    }
   ],
   "source": [
    "data.isna().sum()"
   ]
  },
  {
   "cell_type": "code",
   "execution_count": 7,
   "id": "679edbf3",
   "metadata": {},
   "outputs": [
    {
     "data": {
      "text/html": [
       "<div>\n",
       "<style scoped>\n",
       "    .dataframe tbody tr th:only-of-type {\n",
       "        vertical-align: middle;\n",
       "    }\n",
       "\n",
       "    .dataframe tbody tr th {\n",
       "        vertical-align: top;\n",
       "    }\n",
       "\n",
       "    .dataframe thead th {\n",
       "        text-align: right;\n",
       "    }\n",
       "</style>\n",
       "<table border=\"1\" class=\"dataframe\">\n",
       "  <thead>\n",
       "    <tr style=\"text-align: right;\">\n",
       "      <th></th>\n",
       "      <th>Buying</th>\n",
       "      <th>Maint</th>\n",
       "      <th>Doors</th>\n",
       "      <th>Persons</th>\n",
       "      <th>Lug_Boot</th>\n",
       "      <th>Safety</th>\n",
       "      <th>Class</th>\n",
       "    </tr>\n",
       "  </thead>\n",
       "  <tbody>\n",
       "    <tr>\n",
       "      <th>0</th>\n",
       "      <td>3</td>\n",
       "      <td>3</td>\n",
       "      <td>0</td>\n",
       "      <td>0</td>\n",
       "      <td>2</td>\n",
       "      <td>1</td>\n",
       "      <td>2</td>\n",
       "    </tr>\n",
       "    <tr>\n",
       "      <th>1</th>\n",
       "      <td>3</td>\n",
       "      <td>3</td>\n",
       "      <td>0</td>\n",
       "      <td>0</td>\n",
       "      <td>2</td>\n",
       "      <td>2</td>\n",
       "      <td>2</td>\n",
       "    </tr>\n",
       "    <tr>\n",
       "      <th>2</th>\n",
       "      <td>3</td>\n",
       "      <td>3</td>\n",
       "      <td>0</td>\n",
       "      <td>0</td>\n",
       "      <td>2</td>\n",
       "      <td>0</td>\n",
       "      <td>2</td>\n",
       "    </tr>\n",
       "    <tr>\n",
       "      <th>3</th>\n",
       "      <td>3</td>\n",
       "      <td>3</td>\n",
       "      <td>0</td>\n",
       "      <td>0</td>\n",
       "      <td>1</td>\n",
       "      <td>1</td>\n",
       "      <td>2</td>\n",
       "    </tr>\n",
       "    <tr>\n",
       "      <th>4</th>\n",
       "      <td>3</td>\n",
       "      <td>3</td>\n",
       "      <td>0</td>\n",
       "      <td>0</td>\n",
       "      <td>1</td>\n",
       "      <td>2</td>\n",
       "      <td>2</td>\n",
       "    </tr>\n",
       "    <tr>\n",
       "      <th>...</th>\n",
       "      <td>...</td>\n",
       "      <td>...</td>\n",
       "      <td>...</td>\n",
       "      <td>...</td>\n",
       "      <td>...</td>\n",
       "      <td>...</td>\n",
       "      <td>...</td>\n",
       "    </tr>\n",
       "    <tr>\n",
       "      <th>1723</th>\n",
       "      <td>1</td>\n",
       "      <td>1</td>\n",
       "      <td>3</td>\n",
       "      <td>2</td>\n",
       "      <td>1</td>\n",
       "      <td>2</td>\n",
       "      <td>1</td>\n",
       "    </tr>\n",
       "    <tr>\n",
       "      <th>1724</th>\n",
       "      <td>1</td>\n",
       "      <td>1</td>\n",
       "      <td>3</td>\n",
       "      <td>2</td>\n",
       "      <td>1</td>\n",
       "      <td>0</td>\n",
       "      <td>3</td>\n",
       "    </tr>\n",
       "    <tr>\n",
       "      <th>1725</th>\n",
       "      <td>1</td>\n",
       "      <td>1</td>\n",
       "      <td>3</td>\n",
       "      <td>2</td>\n",
       "      <td>0</td>\n",
       "      <td>1</td>\n",
       "      <td>2</td>\n",
       "    </tr>\n",
       "    <tr>\n",
       "      <th>1726</th>\n",
       "      <td>1</td>\n",
       "      <td>1</td>\n",
       "      <td>3</td>\n",
       "      <td>2</td>\n",
       "      <td>0</td>\n",
       "      <td>2</td>\n",
       "      <td>1</td>\n",
       "    </tr>\n",
       "    <tr>\n",
       "      <th>1727</th>\n",
       "      <td>1</td>\n",
       "      <td>1</td>\n",
       "      <td>3</td>\n",
       "      <td>2</td>\n",
       "      <td>0</td>\n",
       "      <td>0</td>\n",
       "      <td>3</td>\n",
       "    </tr>\n",
       "  </tbody>\n",
       "</table>\n",
       "<p>1728 rows × 7 columns</p>\n",
       "</div>"
      ],
      "text/plain": [
       "      Buying  Maint  Doors  Persons  Lug_Boot  Safety  Class\n",
       "0          3      3      0        0         2       1      2\n",
       "1          3      3      0        0         2       2      2\n",
       "2          3      3      0        0         2       0      2\n",
       "3          3      3      0        0         1       1      2\n",
       "4          3      3      0        0         1       2      2\n",
       "...      ...    ...    ...      ...       ...     ...    ...\n",
       "1723       1      1      3        2         1       2      1\n",
       "1724       1      1      3        2         1       0      3\n",
       "1725       1      1      3        2         0       1      2\n",
       "1726       1      1      3        2         0       2      1\n",
       "1727       1      1      3        2         0       0      3\n",
       "\n",
       "[1728 rows x 7 columns]"
      ]
     },
     "execution_count": 7,
     "metadata": {},
     "output_type": "execute_result"
    }
   ],
   "source": [
    "data"
   ]
  },
  {
   "cell_type": "code",
   "execution_count": 8,
   "id": "ea68bca3",
   "metadata": {},
   "outputs": [
    {
     "data": {
      "text/plain": [
       "<Axes: title={'center': 'Analyze Correlation of Features'}>"
      ]
     },
     "execution_count": 8,
     "metadata": {},
     "output_type": "execute_result"
    },
    {
     "data": {
      "image/png": "[encoded data removed]",
      "text/plain": [
       "<Figure size 800x800 with 2 Axes>"
      ]
     },
     "metadata": {},
     "output_type": "display_data"
    }
   ],
   "source": [
    "colormap = plt.cm.PuBu\n",
    "plt.figure(figsize=(8, 8))\n",
    "plt.title(\"Analyze Correlation of Features\", y = 1.0, size = 16)\n",
    "sns.heatmap(data.astype(float).corr(), linewidths = 0.1, vmax = 1.0,\n",
    "           square = True, cmap = colormap, linecolor = \"black\", annot = True, annot_kws = {\"size\" : 8})"
   ]
  },
  {
   "cell_type": "code",
   "execution_count": 9,
   "id": "c47b15ed",
   "metadata": {},
   "outputs": [],
   "source": [
    "#Splitting the data into training and test test\n",
    "X = data.iloc[:,0:5].values\n",
    "y = data.iloc[:,6].values\n",
    "\n",
    "Y = pd.get_dummies(y).values\n",
    "\n",
    "from sklearn.model_selection import train_test_split\n",
    "x_train,x_test, y_train,y_test = train_test_split(X,Y,test_size=0.2,random_state=0) "
   ]
  },
  {
   "cell_type": "code",
   "execution_count": 10,
   "id": "8bc582d3",
   "metadata": {},
   "outputs": [
    {
     "data": {
      "text/plain": [
       "array([[3, 3, 0, 0, 2],\n",
       "       [3, 3, 0, 0, 2],\n",
       "       [3, 3, 0, 0, 2],\n",
       "       ...,\n",
       "       [1, 1, 3, 2, 0],\n",
       "       [1, 1, 3, 2, 0],\n",
       "       [1, 1, 3, 2, 0]])"
      ]
     },
     "execution_count": 10,
     "metadata": {},
     "output_type": "execute_result"
    }
   ],
   "source": [
    "X"
   ]
  },
  {
   "cell_type": "code",
   "execution_count": 11,
   "id": "5dda4ae5",
   "metadata": {},
   "outputs": [
    {
     "data": {
      "text/plain": [
       "array([[0, 0, 1, 0],\n",
       "       [0, 0, 1, 0],\n",
       "       [0, 0, 1, 0],\n",
       "       ...,\n",
       "       [0, 0, 1, 0],\n",
       "       [0, 1, 0, 0],\n",
       "       [0, 0, 0, 1]], dtype=uint8)"
      ]
     },
     "execution_count": 11,
     "metadata": {},
     "output_type": "execute_result"
    }
   ],
   "source": [
    "Y"
   ]
  },
  {
   "cell_type": "code",
   "execution_count": 31,
   "id": "acc7465d",
   "metadata": {
    "scrolled": true
   },
   "outputs": [
    {
     "name": "stderr",
     "output_type": "stream",
     "text": [
      "WARNING:absl:At this time, the v2.11+ optimizer `tf.keras.optimizers.Adam` runs slowly on M1/M2 Macs, please use the legacy Keras optimizer instead, located at `tf.keras.optimizers.legacy.Adam`.\n",
      "WARNING:absl:`lr` is deprecated in Keras optimizer, please use `learning_rate` or use the legacy optimizer, e.g.,tf.keras.optimizers.legacy.Adam.\n",
      "WARNING:absl:There is a known slowdown when using v2.11+ Keras optimizers on M1/M2 Macs. Falling back to the legacy Keras optimizer, i.e., `tf.keras.optimizers.legacy.Adam`.\n"
     ]
    },
    {
     "name": "stdout",
     "output_type": "stream",
     "text": [
      "Model: \"sequential_4\"\n",
      "_________________________________________________________________\n",
      " Layer (type)                Output Shape              Param #   \n",
      "=================================================================\n",
      " dense_16 (Dense)            (None, 4)                 24        \n",
      "                                                                 \n",
      " dense_17 (Dense)            (None, 4)                 20        \n",
      "                                                                 \n",
      " dense_18 (Dense)            (None, 4)                 20        \n",
      "                                                                 \n",
      " dense_19 (Dense)            (None, 4)                 20        \n",
      "                                                                 \n",
      "=================================================================\n",
      "Total params: 84 (336.00 Byte)\n",
      "Trainable params: 84 (336.00 Byte)\n",
      "Non-trainable params: 0 (0.00 Byte)\n",
      "_________________________________________________________________\n"
     ]
    }
   ],
   "source": [
    "from keras.models import Sequential\n",
    "from keras.layers import Dense\n",
    "from keras.optimizers import SGD,Adam\n",
    "\n",
    "\n",
    "model = Sequential()\n",
    "\n",
    "model.add(Dense(4,input_shape=(5,),activation='relu'))\n",
    "model.add(Dense(4,activation='relu'))\n",
    "model.add(Dense(4,activation='relu'))\n",
    "model.add(Dense(4,activation='sigmoid'))\n",
    "\n",
    "model.compile(Adam(lr=0.02),'binary_crossentropy',metrics=['accuracy'])\n",
    "\n",
    "model.summary()"
   ]
  },
  {
   "cell_type": "code",
   "execution_count": 32,
   "id": "eb35cccb",
   "metadata": {
    "scrolled": false
   },
   "outputs": [
    {
     "name": "stdout",
     "output_type": "stream",
     "text": [
      "Epoch 1/100\n",
      "44/44 [==============================] - 0s 1ms/step - loss: 0.5229 - accuracy: 0.3748 - val_loss: 0.4830 - val_accuracy: 0.4306\n",
      "Epoch 2/100\n",
      "44/44 [==============================] - 0s 543us/step - loss: 0.4622 - accuracy: 0.5876 - val_loss: 0.4339 - val_accuracy: 0.6936\n",
      "Epoch 3/100\n",
      "44/44 [==============================] - 0s 470us/step - loss: 0.4223 - accuracy: 0.7019 - val_loss: 0.4123 - val_accuracy: 0.6936\n",
      "Epoch 4/100\n",
      "44/44 [==============================] - 0s 476us/step - loss: 0.4047 - accuracy: 0.7019 - val_loss: 0.4003 - val_accuracy: 0.6936\n",
      "Epoch 5/100\n",
      "44/44 [==============================] - 0s 502us/step - loss: 0.3955 - accuracy: 0.7019 - val_loss: 0.3921 - val_accuracy: 0.6936\n",
      "Epoch 6/100\n",
      "44/44 [==============================] - 0s 485us/step - loss: 0.3884 - accuracy: 0.7019 - val_loss: 0.3867 - val_accuracy: 0.6936\n",
      "Epoch 7/100\n",
      "44/44 [==============================] - 0s 506us/step - loss: 0.3835 - accuracy: 0.7019 - val_loss: 0.3829 - val_accuracy: 0.6936\n",
      "Epoch 8/100\n",
      "44/44 [==============================] - 0s 502us/step - loss: 0.3801 - accuracy: 0.7019 - val_loss: 0.3793 - val_accuracy: 0.6936\n",
      "Epoch 9/100\n",
      "44/44 [==============================] - 0s 466us/step - loss: 0.3764 - accuracy: 0.7019 - val_loss: 0.3767 - val_accuracy: 0.6936\n",
      "Epoch 10/100\n",
      "44/44 [==============================] - 0s 485us/step - loss: 0.3730 - accuracy: 0.7019 - val_loss: 0.3734 - val_accuracy: 0.6936\n",
      "Epoch 11/100\n",
      "44/44 [==============================] - 0s 492us/step - loss: 0.3696 - accuracy: 0.7019 - val_loss: 0.3706 - val_accuracy: 0.6936\n",
      "Epoch 12/100\n",
      "44/44 [==============================] - 0s 462us/step - loss: 0.3657 - accuracy: 0.7019 - val_loss: 0.3673 - val_accuracy: 0.6936\n",
      "Epoch 13/100\n",
      "44/44 [==============================] - 0s 482us/step - loss: 0.3621 - accuracy: 0.7019 - val_loss: 0.3643 - val_accuracy: 0.6936\n",
      "Epoch 14/100\n",
      "44/44 [==============================] - 0s 492us/step - loss: 0.3577 - accuracy: 0.7019 - val_loss: 0.3610 - val_accuracy: 0.6936\n",
      "Epoch 15/100\n",
      "44/44 [==============================] - 0s 465us/step - loss: 0.3529 - accuracy: 0.7019 - val_loss: 0.3585 - val_accuracy: 0.6936\n",
      "Epoch 16/100\n",
      "44/44 [==============================] - 0s 497us/step - loss: 0.3480 - accuracy: 0.7019 - val_loss: 0.3547 - val_accuracy: 0.6936\n",
      "Epoch 17/100\n",
      "44/44 [==============================] - 0s 493us/step - loss: 0.3425 - accuracy: 0.7019 - val_loss: 0.3498 - val_accuracy: 0.6936\n",
      "Epoch 18/100\n",
      "44/44 [==============================] - 0s 480us/step - loss: 0.3377 - accuracy: 0.7019 - val_loss: 0.3456 - val_accuracy: 0.6936\n",
      "Epoch 19/100\n",
      "44/44 [==============================] - 0s 510us/step - loss: 0.3332 - accuracy: 0.7019 - val_loss: 0.3421 - val_accuracy: 0.6936\n",
      "Epoch 20/100\n",
      "44/44 [==============================] - 0s 502us/step - loss: 0.3290 - accuracy: 0.7019 - val_loss: 0.3358 - val_accuracy: 0.6936\n",
      "Epoch 21/100\n",
      "44/44 [==============================] - 0s 467us/step - loss: 0.3242 - accuracy: 0.7019 - val_loss: 0.3308 - val_accuracy: 0.6936\n",
      "Epoch 22/100\n",
      "44/44 [==============================] - 0s 494us/step - loss: 0.3191 - accuracy: 0.7019 - val_loss: 0.3253 - val_accuracy: 0.6936\n",
      "Epoch 23/100\n",
      "44/44 [==============================] - 0s 488us/step - loss: 0.3145 - accuracy: 0.7019 - val_loss: 0.3198 - val_accuracy: 0.6936\n",
      "Epoch 24/100\n",
      "44/44 [==============================] - 0s 460us/step - loss: 0.3107 - accuracy: 0.7019 - val_loss: 0.3164 - val_accuracy: 0.6936\n",
      "Epoch 25/100\n",
      "44/44 [==============================] - 0s 533us/step - loss: 0.3065 - accuracy: 0.7019 - val_loss: 0.3132 - val_accuracy: 0.6936\n",
      "Epoch 26/100\n",
      "44/44 [==============================] - 0s 495us/step - loss: 0.3037 - accuracy: 0.7019 - val_loss: 0.3106 - val_accuracy: 0.6936\n",
      "Epoch 27/100\n",
      "44/44 [==============================] - 0s 492us/step - loss: 0.3014 - accuracy: 0.7019 - val_loss: 0.3087 - val_accuracy: 0.6936\n",
      "Epoch 28/100\n",
      "44/44 [==============================] - 0s 496us/step - loss: 0.2992 - accuracy: 0.7019 - val_loss: 0.3075 - val_accuracy: 0.6936\n",
      "Epoch 29/100\n",
      "44/44 [==============================] - 0s 489us/step - loss: 0.2974 - accuracy: 0.7019 - val_loss: 0.3066 - val_accuracy: 0.6936\n",
      "Epoch 30/100\n",
      "44/44 [==============================] - 0s 508us/step - loss: 0.2961 - accuracy: 0.7019 - val_loss: 0.3055 - val_accuracy: 0.6936\n",
      "Epoch 31/100\n",
      "44/44 [==============================] - 0s 494us/step - loss: 0.2947 - accuracy: 0.7019 - val_loss: 0.3050 - val_accuracy: 0.6936\n",
      "Epoch 32/100\n",
      "44/44 [==============================] - 0s 461us/step - loss: 0.2936 - accuracy: 0.7019 - val_loss: 0.3046 - val_accuracy: 0.6936\n",
      "Epoch 33/100\n",
      "44/44 [==============================] - 0s 492us/step - loss: 0.2927 - accuracy: 0.7019 - val_loss: 0.3036 - val_accuracy: 0.6936\n",
      "Epoch 34/100\n",
      "44/44 [==============================] - 0s 487us/step - loss: 0.2921 - accuracy: 0.7019 - val_loss: 0.3038 - val_accuracy: 0.6936\n",
      "Epoch 35/100\n",
      "44/44 [==============================] - 0s 494us/step - loss: 0.2916 - accuracy: 0.7019 - val_loss: 0.3040 - val_accuracy: 0.6936\n",
      "Epoch 36/100\n",
      "44/44 [==============================] - 0s 504us/step - loss: 0.2908 - accuracy: 0.7019 - val_loss: 0.3020 - val_accuracy: 0.6936\n",
      "Epoch 37/100\n",
      "44/44 [==============================] - 0s 501us/step - loss: 0.2904 - accuracy: 0.7019 - val_loss: 0.3036 - val_accuracy: 0.6936\n",
      "Epoch 38/100\n",
      "44/44 [==============================] - 0s 467us/step - loss: 0.2899 - accuracy: 0.7019 - val_loss: 0.3027 - val_accuracy: 0.6936\n",
      "Epoch 39/100\n",
      "44/44 [==============================] - 0s 508us/step - loss: 0.2897 - accuracy: 0.7019 - val_loss: 0.3014 - val_accuracy: 0.6936\n",
      "Epoch 40/100\n",
      "44/44 [==============================] - 0s 500us/step - loss: 0.2890 - accuracy: 0.7019 - val_loss: 0.3016 - val_accuracy: 0.6936\n",
      "Epoch 41/100\n",
      "44/44 [==============================] - 0s 465us/step - loss: 0.2888 - accuracy: 0.7019 - val_loss: 0.3020 - val_accuracy: 0.6936\n",
      "Epoch 42/100\n",
      "44/44 [==============================] - 0s 514us/step - loss: 0.2885 - accuracy: 0.7019 - val_loss: 0.3020 - val_accuracy: 0.6936\n",
      "Epoch 43/100\n",
      "44/44 [==============================] - 0s 487us/step - loss: 0.2881 - accuracy: 0.7019 - val_loss: 0.3018 - val_accuracy: 0.6936\n",
      "Epoch 44/100\n",
      "44/44 [==============================] - 0s 463us/step - loss: 0.2877 - accuracy: 0.7019 - val_loss: 0.3021 - val_accuracy: 0.6936\n",
      "Epoch 45/100\n",
      "44/44 [==============================] - 0s 501us/step - loss: 0.2876 - accuracy: 0.7019 - val_loss: 0.2994 - val_accuracy: 0.6936\n",
      "Epoch 46/100\n",
      "44/44 [==============================] - 0s 547us/step - loss: 0.2871 - accuracy: 0.7019 - val_loss: 0.3009 - val_accuracy: 0.6936\n",
      "Epoch 47/100\n",
      "44/44 [==============================] - 0s 518us/step - loss: 0.2868 - accuracy: 0.7019 - val_loss: 0.2998 - val_accuracy: 0.6936\n",
      "Epoch 48/100\n",
      "44/44 [==============================] - 0s 519us/step - loss: 0.2865 - accuracy: 0.7019 - val_loss: 0.3011 - val_accuracy: 0.6936\n",
      "Epoch 49/100\n",
      "44/44 [==============================] - 0s 491us/step - loss: 0.2867 - accuracy: 0.7019 - val_loss: 0.2993 - val_accuracy: 0.6936\n",
      "Epoch 50/100\n",
      "44/44 [==============================] - 0s 528us/step - loss: 0.2861 - accuracy: 0.7019 - val_loss: 0.2998 - val_accuracy: 0.6936\n",
      "Epoch 51/100\n",
      "44/44 [==============================] - 0s 497us/step - loss: 0.2855 - accuracy: 0.7019 - val_loss: 0.2994 - val_accuracy: 0.6936\n",
      "Epoch 52/100\n",
      "44/44 [==============================] - 0s 482us/step - loss: 0.2853 - accuracy: 0.7019 - val_loss: 0.2990 - val_accuracy: 0.6936\n",
      "Epoch 53/100\n",
      "44/44 [==============================] - 0s 495us/step - loss: 0.2850 - accuracy: 0.7019 - val_loss: 0.2987 - val_accuracy: 0.6936\n",
      "Epoch 54/100\n",
      "44/44 [==============================] - 0s 494us/step - loss: 0.2849 - accuracy: 0.7019 - val_loss: 0.2986 - val_accuracy: 0.6936\n",
      "Epoch 55/100\n",
      "44/44 [==============================] - 0s 529us/step - loss: 0.2842 - accuracy: 0.7019 - val_loss: 0.2987 - val_accuracy: 0.6936\n",
      "Epoch 56/100\n",
      "44/44 [==============================] - 0s 492us/step - loss: 0.2839 - accuracy: 0.7019 - val_loss: 0.2977 - val_accuracy: 0.6936\n",
      "Epoch 57/100\n",
      "44/44 [==============================] - 0s 468us/step - loss: 0.2836 - accuracy: 0.7019 - val_loss: 0.2972 - val_accuracy: 0.6936\n"
     ]
    },
    {
     "name": "stdout",
     "output_type": "stream",
     "text": [
      "Epoch 58/100\n",
      "44/44 [==============================] - 0s 521us/step - loss: 0.2831 - accuracy: 0.7019 - val_loss: 0.2973 - val_accuracy: 0.6936\n",
      "Epoch 59/100\n",
      "44/44 [==============================] - 0s 502us/step - loss: 0.2827 - accuracy: 0.7019 - val_loss: 0.2976 - val_accuracy: 0.6936\n",
      "Epoch 60/100\n",
      "44/44 [==============================] - 0s 469us/step - loss: 0.2824 - accuracy: 0.7019 - val_loss: 0.2972 - val_accuracy: 0.6936\n",
      "Epoch 61/100\n",
      "44/44 [==============================] - 0s 489us/step - loss: 0.2822 - accuracy: 0.7019 - val_loss: 0.2979 - val_accuracy: 0.6936\n",
      "Epoch 62/100\n",
      "44/44 [==============================] - 0s 490us/step - loss: 0.2815 - accuracy: 0.7019 - val_loss: 0.2964 - val_accuracy: 0.6936\n",
      "Epoch 63/100\n",
      "44/44 [==============================] - 0s 466us/step - loss: 0.2810 - accuracy: 0.7019 - val_loss: 0.2953 - val_accuracy: 0.6936\n",
      "Epoch 64/100\n",
      "44/44 [==============================] - 0s 470us/step - loss: 0.2816 - accuracy: 0.7019 - val_loss: 0.2961 - val_accuracy: 0.6936\n",
      "Epoch 65/100\n",
      "44/44 [==============================] - 0s 494us/step - loss: 0.2804 - accuracy: 0.7019 - val_loss: 0.2971 - val_accuracy: 0.6936\n",
      "Epoch 66/100\n",
      "44/44 [==============================] - 0s 483us/step - loss: 0.2804 - accuracy: 0.7019 - val_loss: 0.2946 - val_accuracy: 0.6936\n",
      "Epoch 67/100\n",
      "44/44 [==============================] - 0s 502us/step - loss: 0.2798 - accuracy: 0.7019 - val_loss: 0.2956 - val_accuracy: 0.6936\n",
      "Epoch 68/100\n",
      "44/44 [==============================] - 0s 479us/step - loss: 0.2791 - accuracy: 0.7019 - val_loss: 0.2939 - val_accuracy: 0.6936\n",
      "Epoch 69/100\n",
      "44/44 [==============================] - 0s 489us/step - loss: 0.2790 - accuracy: 0.7019 - val_loss: 0.2964 - val_accuracy: 0.6936\n",
      "Epoch 70/100\n",
      "44/44 [==============================] - 0s 516us/step - loss: 0.2780 - accuracy: 0.7019 - val_loss: 0.2932 - val_accuracy: 0.6936\n",
      "Epoch 71/100\n",
      "44/44 [==============================] - 0s 506us/step - loss: 0.2778 - accuracy: 0.7019 - val_loss: 0.2928 - val_accuracy: 0.6936\n",
      "Epoch 72/100\n",
      "44/44 [==============================] - 0s 465us/step - loss: 0.2771 - accuracy: 0.7019 - val_loss: 0.2927 - val_accuracy: 0.6936\n",
      "Epoch 73/100\n",
      "44/44 [==============================] - 0s 501us/step - loss: 0.2770 - accuracy: 0.7019 - val_loss: 0.2928 - val_accuracy: 0.6936\n",
      "Epoch 74/100\n",
      "44/44 [==============================] - 0s 490us/step - loss: 0.2766 - accuracy: 0.7019 - val_loss: 0.2919 - val_accuracy: 0.6936\n",
      "Epoch 75/100\n",
      "44/44 [==============================] - 0s 473us/step - loss: 0.2754 - accuracy: 0.7019 - val_loss: 0.2923 - val_accuracy: 0.6936\n",
      "Epoch 76/100\n",
      "44/44 [==============================] - 0s 540us/step - loss: 0.2747 - accuracy: 0.7019 - val_loss: 0.2909 - val_accuracy: 0.6936\n",
      "Epoch 77/100\n",
      "44/44 [==============================] - 0s 491us/step - loss: 0.2740 - accuracy: 0.7019 - val_loss: 0.2897 - val_accuracy: 0.6936\n",
      "Epoch 78/100\n",
      "44/44 [==============================] - 0s 487us/step - loss: 0.2737 - accuracy: 0.7019 - val_loss: 0.2894 - val_accuracy: 0.6936\n",
      "Epoch 79/100\n",
      "44/44 [==============================] - 0s 493us/step - loss: 0.2725 - accuracy: 0.7019 - val_loss: 0.2885 - val_accuracy: 0.6936\n",
      "Epoch 80/100\n",
      "44/44 [==============================] - 0s 485us/step - loss: 0.2725 - accuracy: 0.7019 - val_loss: 0.2875 - val_accuracy: 0.6936\n",
      "Epoch 81/100\n",
      "44/44 [==============================] - 0s 461us/step - loss: 0.2725 - accuracy: 0.7019 - val_loss: 0.2867 - val_accuracy: 0.6936\n",
      "Epoch 82/100\n",
      "44/44 [==============================] - 0s 484us/step - loss: 0.2722 - accuracy: 0.7012 - val_loss: 0.2878 - val_accuracy: 0.6936\n",
      "Epoch 83/100\n",
      "44/44 [==============================] - 0s 485us/step - loss: 0.2714 - accuracy: 0.7019 - val_loss: 0.2862 - val_accuracy: 0.6936\n",
      "Epoch 84/100\n",
      "44/44 [==============================] - 0s 489us/step - loss: 0.2703 - accuracy: 0.7019 - val_loss: 0.2870 - val_accuracy: 0.6936\n",
      "Epoch 85/100\n",
      "44/44 [==============================] - 0s 504us/step - loss: 0.2696 - accuracy: 0.7019 - val_loss: 0.2862 - val_accuracy: 0.6936\n",
      "Epoch 86/100\n",
      "44/44 [==============================] - 0s 510us/step - loss: 0.2693 - accuracy: 0.7019 - val_loss: 0.2851 - val_accuracy: 0.6936\n",
      "Epoch 87/100\n",
      "44/44 [==============================] - 0s 463us/step - loss: 0.2696 - accuracy: 0.7019 - val_loss: 0.2852 - val_accuracy: 0.6936\n",
      "Epoch 88/100\n",
      "44/44 [==============================] - 0s 494us/step - loss: 0.2693 - accuracy: 0.7019 - val_loss: 0.2840 - val_accuracy: 0.6936\n",
      "Epoch 89/100\n",
      "44/44 [==============================] - 0s 484us/step - loss: 0.2692 - accuracy: 0.7019 - val_loss: 0.2850 - val_accuracy: 0.6936\n",
      "Epoch 90/100\n",
      "44/44 [==============================] - 0s 470us/step - loss: 0.2681 - accuracy: 0.7019 - val_loss: 0.2841 - val_accuracy: 0.6936\n",
      "Epoch 91/100\n",
      "44/44 [==============================] - 0s 492us/step - loss: 0.2678 - accuracy: 0.7019 - val_loss: 0.2843 - val_accuracy: 0.6936\n",
      "Epoch 92/100\n",
      "44/44 [==============================] - 0s 496us/step - loss: 0.2678 - accuracy: 0.7019 - val_loss: 0.2854 - val_accuracy: 0.6936\n",
      "Epoch 93/100\n",
      "44/44 [==============================] - 0s 510us/step - loss: 0.2671 - accuracy: 0.7019 - val_loss: 0.2849 - val_accuracy: 0.6936\n",
      "Epoch 94/100\n",
      "44/44 [==============================] - 0s 502us/step - loss: 0.2668 - accuracy: 0.7019 - val_loss: 0.2840 - val_accuracy: 0.6936\n",
      "Epoch 95/100\n",
      "44/44 [==============================] - 0s 486us/step - loss: 0.2665 - accuracy: 0.7019 - val_loss: 0.2827 - val_accuracy: 0.6936\n",
      "Epoch 96/100\n",
      "44/44 [==============================] - 0s 459us/step - loss: 0.2671 - accuracy: 0.7019 - val_loss: 0.2837 - val_accuracy: 0.6936\n",
      "Epoch 97/100\n",
      "44/44 [==============================] - 0s 487us/step - loss: 0.2661 - accuracy: 0.7019 - val_loss: 0.2843 - val_accuracy: 0.6936\n",
      "Epoch 98/100\n",
      "44/44 [==============================] - 0s 496us/step - loss: 0.2659 - accuracy: 0.7019 - val_loss: 0.2843 - val_accuracy: 0.6936\n",
      "Epoch 99/100\n",
      "44/44 [==============================] - 0s 498us/step - loss: 0.2654 - accuracy: 0.7019 - val_loss: 0.2841 - val_accuracy: 0.6936\n",
      "Epoch 100/100\n",
      "44/44 [==============================] - 0s 499us/step - loss: 0.2660 - accuracy: 0.7019 - val_loss: 0.2840 - val_accuracy: 0.6936\n",
      "11/11 [==============================] - 0s 283us/step\n"
     ]
    }
   ],
   "source": [
    "model_history=model.fit(x=x_train, y=y_train, epochs=100, batch_size=32,validation_data= (x_test,y_test))\n",
    "y_pred = model.predict(x_test)\n",
    "\n",
    "y_test_class = np.argmax(y_test,axis=1)\n",
    "y_pred_class = np.argmax(y_pred,axis=1)"
   ]
  },
  {
   "cell_type": "code",
   "execution_count": 33,
   "id": "6bdf2734",
   "metadata": {},
   "outputs": [
    {
     "data": {
      "image/png": "[encoded data removed]",
      "text/plain": [
       "<Figure size 640x480 with 1 Axes>"
      ]
     },
     "metadata": {},
     "output_type": "display_data"
    }
   ],
   "source": [
    "import matplotlib.pyplot as plt\n",
    "import seaborn as sns\n",
    "\n",
    "loss =model_history.history['loss']\n",
    "val_loss =model_history.history['val_loss']\n",
    "epochs = range(1, len(loss) + 1)\n",
    "plt.plot(epochs, loss, 'y', label='Training loss')\n",
    "plt.plot(epochs, val_loss, 'r', label='Validation loss')\n",
    "plt.title('Training and validation loss')\n",
    "plt.xlabel('Epochs')\n",
    "plt.ylabel('Loss')\n",
    "plt.legend()\n",
    "plt.show()"
   ]
  },
  {
   "cell_type": "code",
   "execution_count": 34,
   "id": "c3e24677",
   "metadata": {},
   "outputs": [
    {
     "data": {
      "image/png": "[encoded data removed]",
      "text/plain": [
       "<Figure size 640x480 with 1 Axes>"
      ]
     },
     "metadata": {},
     "output_type": "display_data"
    }
   ],
   "source": [
    "acc =model_history.history['accuracy']\n",
    "val_acc =model_history.history['val_accuracy']\n",
    "plt.plot(epochs, acc, 'y', label='Training acc')\n",
    "plt.plot(epochs, val_acc, 'r', label='Validation acc')\n",
    "plt.title('Training and validation accuracy')\n",
    "plt.xlabel('Epochs')\n",
    "plt.ylabel('Accuracy')\n",
    "plt.legend()\n",
    "plt.show()"
   ]
  },
  {
   "cell_type": "code",
   "execution_count": 35,
   "id": "6b4abf36",
   "metadata": {},
   "outputs": [
    {
     "name": "stdout",
     "output_type": "stream",
     "text": [
      "              precision    recall  f1-score   support\n",
      "\n",
      "           0       0.00      0.00      0.00        79\n",
      "           1       0.00      0.00      0.00        17\n",
      "           2       0.69      1.00      0.82       240\n",
      "           3       0.00      0.00      0.00        10\n",
      "\n",
      "    accuracy                           0.69       346\n",
      "   macro avg       0.17      0.25      0.20       346\n",
      "weighted avg       0.48      0.69      0.57       346\n",
      "\n",
      "[[  0   0  79   0]\n",
      " [  0   0  17   0]\n",
      " [  0   0 240   0]\n",
      " [  0   0  10   0]]\n"
     ]
    }
   ],
   "source": [
    "#Accuracy of the predicted values\n",
    "from sklearn.metrics import classification_report,confusion_matrix\n",
    "print(classification_report(y_test_class,y_pred_class))\n",
    "print(confusion_matrix(y_test_class,y_pred_class))"
   ]
  }
 ],
 "metadata": {
  "kernelspec": {
   "display_name": "Python 3 (ipykernel)",
   "language": "python",
   "name": "python3"
  },
  "language_info": {
   "codemirror_mode": {
    "name": "ipython",
    "version": 3
   },
   "file_extension": ".py",
   "mimetype": "text/x-python",
   "name": "python",
   "nbconvert_exporter": "python",
   "pygments_lexer": "ipython3",
   "version": "3.11.4"
  }
 },
 "nbformat": 4,
 "nbformat_minor": 5
}
