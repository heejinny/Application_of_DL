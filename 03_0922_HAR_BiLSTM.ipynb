{
 "cells": [
  {
   "cell_type": "code",
   "execution_count": 1,
   "id": "58cda180",
   "metadata": {},
   "outputs": [],
   "source": [
    "import pandas as pd\n",
    "import numpy as np\n",
    "from matplotlib import pyplot as plt\n",
    "from tensorflow.keras.models import Model\n",
    "\n",
    "import keras\n",
    "from tensorflow.keras.layers import Activation\n",
    "from tensorflow.keras.models import Sequential\n",
    "from tensorflow.keras.layers import Conv1D, MaxPooling1D, Dense, Input, Dropout, Flatten, BatchNormalization, Conv1D\n",
    "from tensorflow.keras.layers import concatenate, Dropout\n",
    "from keras.utils import to_categorical\n",
    "from tensorflow.keras import optimizers\n",
    "import seaborn as sns"
   ]
  },
  {
   "cell_type": "code",
   "execution_count": 2,
   "id": "8e1f183f",
   "metadata": {},
   "outputs": [],
   "source": [
    "from keras.layers import Bidirectional, LSTM\n",
    "from tensorflow.keras.utils import plot_model\n",
    "from sklearn.metrics import confusion_matrix, classification_report"
   ]
  },
  {
   "cell_type": "code",
   "execution_count": 3,
   "id": "c69e3104",
   "metadata": {},
   "outputs": [],
   "source": [
    "def load_file(filepath):\n",
    "    dataframe = pd.read_csv(filepath, header=None, delim_whitespace=True)\n",
    "    return dataframe.values\n",
    "\n",
    "# load a list of files and return as a 3d numpy array\n",
    "def load_group(filenames, prefix=''):\n",
    "    loaded = list()\n",
    "    for name in filenames:\n",
    "        data = load_file(prefix + name)\n",
    "        loaded.append(data)\n",
    "    # stack group so that features are the 3rd dimension\n",
    "    loaded = np.dstack(loaded)\n",
    "    return loaded\n",
    "\n",
    "# load a dataset group, such as train or test\n",
    "def load_dataset_group(group, prefix=''):\n",
    "    filepath = prefix + group + '/Inertial Signals/'\n",
    "    # load all 9 files as a single array\n",
    "    filenames = list()\n",
    "    # total acceleration\n",
    "    filenames += ['total_acc_x_'+group+'.txt', 'total_acc_y_'+group+'.txt', 'total_acc_z_'+group+'.txt']\n",
    "    # body acceleration\n",
    "    filenames += ['body_acc_x_'+group+'.txt', 'body_acc_y_'+group+'.txt', 'body_acc_z_'+group+'.txt']\n",
    "    # body gyroscope\n",
    "    filenames += ['body_gyro_x_'+group+'.txt', 'body_gyro_y_'+group+'.txt', 'body_gyro_z_'+group+'.txt']\n",
    "    # load input data\n",
    "    X = load_group(filenames, filepath)\n",
    "    # load class output\n",
    "    y = load_file(prefix + group + '/y_'+group+'.txt')\n",
    "    return X, y\n",
    "\n",
    "\n",
    "# load the dataset, returns train and test X and y elements\n",
    "def load_dataset(prefix=''):\n",
    "    # load all train\n",
    "    trainX, trainy = load_dataset_group('train', prefix + '/Users/kwonheejin/Documents/DL/dataset/HAR/UCI HAR Dataset/')\n",
    "    # load all test\n",
    "    testX, testy = load_dataset_group('test', prefix + '/Users/kwonheejin/Documents/DL/dataset/HAR/UCI HAR Dataset/')\n",
    "    \n",
    "    #zero-offset class values\n",
    "    trainy = trainy - 1\n",
    "    testy = testy - 1\n",
    "    # one hot encode y\n",
    "    trainy = to_categorical(trainy)\n",
    "    testy = to_categorical(testy)\n",
    "    print(\"trainX shape: \",trainX.shape)\n",
    "    print(\"trainy shape: \", trainy.shape)\n",
    "    print(\"testX shape: \", testX.shape)\n",
    "    print(\"testy shape: \", testy.shape)\n",
    "    return trainX, trainy, testX, testy"
   ]
  },
  {
   "cell_type": "code",
   "execution_count": 4,
   "id": "93cde21b",
   "metadata": {},
   "outputs": [
    {
     "name": "stdout",
     "output_type": "stream",
     "text": [
      "trainX shape:  (7352, 128, 9)\n",
      "trainy shape:  (7352, 6)\n",
      "testX shape:  (2947, 128, 9)\n",
      "testy shape:  (2947, 6)\n"
     ]
    }
   ],
   "source": [
    "trainX, trainy, testX, testy = load_dataset()"
   ]
  },
  {
   "cell_type": "code",
   "execution_count": 5,
   "id": "842636a9",
   "metadata": {},
   "outputs": [],
   "source": [
    "# Helper function to plot distribution of the features\n",
    "def plot_distributions(trainX):\n",
    "    # remove overlap\n",
    "    cut = int(trainX.shape[1] / 2)\n",
    "    longX = trainX[:, -cut:, :]\n",
    "    # flatten windows\n",
    "    longX = longX.reshape((longX.shape[0] * longX.shape[1], longX.shape[2]))\n",
    "    print(longX.shape)\n",
    "    pyplot.figure()\n",
    "    xaxis = None\n",
    "    for i in range(longX.shape[1]):\n",
    "        ax = pyplot.subplot(longX.shape[1], 1, i+1, sharex=xaxis)\n",
    "        ax.set_xlim(-1, 1)\n",
    "        if i == 0:\n",
    "            xaxis = ax\n",
    "        pyplot.hist(longX[:, i], bins=100)\n",
    "    pyplot.show()"
   ]
  },
  {
   "cell_type": "code",
   "execution_count": 6,
   "id": "db8e5920",
   "metadata": {},
   "outputs": [],
   "source": [
    "## set number of epochs and batch size\n",
    "batch_size = 64\n",
    "validation_split = 0.2"
   ]
  },
  {
   "cell_type": "code",
   "execution_count": 7,
   "id": "43755db2",
   "metadata": {},
   "outputs": [],
   "source": [
    "# 모델의 입력 형태 설정\n",
    "n_timesteps, n_features, n_outputs = trainX.shape[1], trainX.shape[2], trainy.shape[1]\n",
    "model = Sequential()\n",
    "model.add(Bidirectional(LSTM(100), input_shape=(n_timesteps, n_features)))\n",
    "model.add(Dropout(0.5))\n",
    "model.add(Dense(100, activation='relu'))\n",
    "model.add(Dense(n_outputs, activation='softmax'))"
   ]
  },
  {
   "cell_type": "code",
   "execution_count": 8,
   "id": "2599e7a8",
   "metadata": {},
   "outputs": [
    {
     "name": "stdout",
     "output_type": "stream",
     "text": [
      "bidirectional\n",
      "(None, 128, 9)\n",
      "(None, 200)\n",
      "{'name': 'bidirectional', 'trainable': True, 'dtype': 'float32', 'batch_input_shape': (None, 128, 9), 'layer': {'module': 'keras.layers', 'class_name': 'LSTM', 'config': {'name': 'lstm', 'trainable': True, 'dtype': 'float32', 'return_sequences': False, 'return_state': False, 'go_backwards': False, 'stateful': False, 'unroll': False, 'time_major': False, 'units': 100, 'activation': 'tanh', 'recurrent_activation': 'sigmoid', 'use_bias': True, 'kernel_initializer': {'module': 'keras.initializers', 'class_name': 'GlorotUniform', 'config': {'seed': None}, 'registered_name': None}, 'recurrent_initializer': {'module': 'keras.initializers', 'class_name': 'Orthogonal', 'config': {'gain': 1.0, 'seed': None}, 'registered_name': None}, 'bias_initializer': {'module': 'keras.initializers', 'class_name': 'Zeros', 'config': {}, 'registered_name': None}, 'unit_forget_bias': True, 'kernel_regularizer': None, 'recurrent_regularizer': None, 'bias_regularizer': None, 'activity_regularizer': None, 'kernel_constraint': None, 'recurrent_constraint': None, 'bias_constraint': None, 'dropout': 0.0, 'recurrent_dropout': 0.0, 'implementation': 2}, 'registered_name': None}, 'merge_mode': 'concat'}\n",
      "\n",
      "\n",
      "dropout\n",
      "(None, 200)\n",
      "(None, 200)\n",
      "{'name': 'dropout', 'trainable': True, 'dtype': 'float32', 'rate': 0.5, 'noise_shape': None, 'seed': None}\n",
      "\n",
      "\n",
      "dense\n",
      "(None, 200)\n",
      "(None, 100)\n",
      "{'name': 'dense', 'trainable': True, 'dtype': 'float32', 'units': 100, 'activation': 'relu', 'use_bias': True, 'kernel_initializer': {'module': 'keras.initializers', 'class_name': 'GlorotUniform', 'config': {'seed': None}, 'registered_name': None}, 'bias_initializer': {'module': 'keras.initializers', 'class_name': 'Zeros', 'config': {}, 'registered_name': None}, 'kernel_regularizer': None, 'bias_regularizer': None, 'activity_regularizer': None, 'kernel_constraint': None, 'bias_constraint': None}\n",
      "\n",
      "\n",
      "dense_1\n",
      "(None, 100)\n",
      "(None, 6)\n",
      "{'name': 'dense_1', 'trainable': True, 'dtype': 'float32', 'units': 6, 'activation': 'softmax', 'use_bias': True, 'kernel_initializer': {'module': 'keras.initializers', 'class_name': 'GlorotUniform', 'config': {'seed': None}, 'registered_name': None}, 'bias_initializer': {'module': 'keras.initializers', 'class_name': 'Zeros', 'config': {}, 'registered_name': None}, 'kernel_regularizer': None, 'bias_regularizer': None, 'activity_regularizer': None, 'kernel_constraint': None, 'bias_constraint': None}\n",
      "\n",
      "\n"
     ]
    }
   ],
   "source": [
    "for layer in model.layers:\n",
    "    print(layer.name)\n",
    "    print(layer.input_shape)\n",
    "    print(layer.output_shape)\n",
    "    print(layer.get_config())\n",
    "    print(\"\\n\")"
   ]
  },
  {
   "cell_type": "code",
   "execution_count": 9,
   "id": "3ee953ea",
   "metadata": {},
   "outputs": [],
   "source": [
    "model.compile(loss='categorical_crossentropy', optimizer='adam', metrics=['accuracy'])"
   ]
  },
  {
   "cell_type": "code",
   "execution_count": 10,
   "id": "6de685cb",
   "metadata": {},
   "outputs": [
    {
     "name": "stdout",
     "output_type": "stream",
     "text": [
      "Epoch 1/10\n",
      "92/92 [==============================] - 13s 132ms/step - loss: 1.1130 - accuracy: 0.5338 - val_loss: 0.8620 - val_accuracy: 0.6825\n",
      "Epoch 2/10\n",
      "92/92 [==============================] - 14s 150ms/step - loss: 0.6316 - accuracy: 0.7392 - val_loss: 0.7202 - val_accuracy: 0.7226\n",
      "Epoch 3/10\n",
      "92/92 [==============================] - 15s 164ms/step - loss: 0.6372 - accuracy: 0.7373 - val_loss: 0.6856 - val_accuracy: 0.7512\n",
      "Epoch 4/10\n",
      "92/92 [==============================] - 15s 164ms/step - loss: 0.5779 - accuracy: 0.7604 - val_loss: 0.7098 - val_accuracy: 0.7573\n",
      "Epoch 5/10\n",
      "92/92 [==============================] - 15s 159ms/step - loss: 0.4439 - accuracy: 0.8274 - val_loss: 0.6950 - val_accuracy: 0.7920\n",
      "Epoch 6/10\n",
      "92/92 [==============================] - 14s 157ms/step - loss: 0.3580 - accuracy: 0.8674 - val_loss: 0.6699 - val_accuracy: 0.8355\n",
      "Epoch 7/10\n",
      "92/92 [==============================] - 14s 157ms/step - loss: 0.3356 - accuracy: 0.8749 - val_loss: 0.5614 - val_accuracy: 0.8736\n",
      "Epoch 8/10\n",
      "92/92 [==============================] - 14s 156ms/step - loss: 0.2566 - accuracy: 0.9167 - val_loss: 0.3791 - val_accuracy: 0.8858\n",
      "Epoch 9/10\n",
      "92/92 [==============================] - 14s 158ms/step - loss: 0.1915 - accuracy: 0.9318 - val_loss: 0.4140 - val_accuracy: 0.9007\n",
      "Epoch 10/10\n",
      "92/92 [==============================] - 14s 154ms/step - loss: 0.2196 - accuracy: 0.9191 - val_loss: 0.4538 - val_accuracy: 0.8872\n"
     ]
    }
   ],
   "source": [
    "# fit network\n",
    "train_epochs = 10\n",
    "history = model.fit(trainX, trainy, epochs=train_epochs, batch_size=batch_size, verbose=True,  validation_split=validation_split, shuffle=True)"
   ]
  },
  {
   "cell_type": "code",
   "execution_count": 11,
   "id": "6c895248",
   "metadata": {},
   "outputs": [
    {
     "data": {
      "text/plain": [
       "<matplotlib.legend.Legend at 0x295988090>"
      ]
     },
     "execution_count": 11,
     "metadata": {},
     "output_type": "execute_result"
    },
    {
     "data": {
      "image/png": "[encoded data removed]",
      "text/plain": [
       "<Figure size 640x480 with 1 Axes>"
      ]
     },
     "metadata": {},
     "output_type": "display_data"
    }
   ],
   "source": [
    "plt.plot(history.history['loss'])\n",
    "plt.plot(history.history['val_loss'])\n",
    "plt.title('model loss')\n",
    "plt.ylabel('loss')\n",
    "plt.xlabel('epoch')\n",
    "plt.legend(['train', 'Validation'], loc='upper left')"
   ]
  },
  {
   "cell_type": "code",
   "execution_count": 12,
   "id": "f2aba47c",
   "metadata": {},
   "outputs": [
    {
     "name": "stdout",
     "output_type": "stream",
     "text": [
      "Accuracy of the LSTM model 0.8717339634895325\n",
      "93/93 [==============================] - 4s 39ms/step\n"
     ]
    }
   ],
   "source": [
    "# evaluate model\n",
    "test_loss, test_accuracy = model.evaluate(testX, testy, batch_size=batch_size, verbose=0)\n",
    "print(\"Accuracy of the LSTM model\", test_accuracy)\n",
    "# Get the predictions for the test set\n",
    "predictions = model.predict(testX)"
   ]
  },
  {
   "cell_type": "code",
   "execution_count": 13,
   "id": "4c738f88",
   "metadata": {},
   "outputs": [],
   "source": [
    "def display_results(testy,predictions,classNames):\n",
    "    y_test=np.argmax(testy, axis=1)\n",
    "    y_scores=np.argmax(predictions, axis=1)\n",
    "    classes = len(classNames)\n",
    "    cm = confusion_matrix(y_test, y_scores)\n",
    "    print(\"**** Confusion Matrix ****\")\n",
    "    print(cm)\n",
    "    print(\"**** Classification Report ****\")\n",
    "    print(classification_report(y_test, y_scores, target_names=classNames))\n",
    "    con = np.zeros((classes,classes))\n",
    "    for x in range(classes):\n",
    "        for y in range(classes):\n",
    "            con[x,y] = cm[x,y] #/np.sum(cm[x,:])\n",
    "\n",
    "    plt.figure(figsize=(10,8))\n",
    "    df = sns.heatmap(con, annot=True, fmt='g', cmap='Blues',xticklabels= classNames , yticklabels= classNames)\n",
    "    plt.xlabel('Predicted')\n",
    "    plt.ylabel('Actual')\n",
    "    plt.show()"
   ]
  },
  {
   "cell_type": "code",
   "execution_count": 14,
   "id": "37158784",
   "metadata": {},
   "outputs": [
    {
     "name": "stdout",
     "output_type": "stream",
     "text": [
      "**** Confusion Matrix ****\n",
      "[[435  17  41   1   2   0]\n",
      " [ 15 417  39   0   0   0]\n",
      " [  3  32 385   0   0   0]\n",
      " [  0   6   0 364 116   5]\n",
      " [  2   4   0  56 470   0]\n",
      " [  0  39   0   0   0 498]]\n",
      "**** Classification Report ****\n",
      "              precision    recall  f1-score   support\n",
      "\n",
      "           1       0.96      0.88      0.91       496\n",
      "           2       0.81      0.89      0.85       471\n",
      "           3       0.83      0.92      0.87       420\n",
      "           4       0.86      0.74      0.80       491\n",
      "           5       0.80      0.88      0.84       532\n",
      "           6       0.99      0.93      0.96       537\n",
      "\n",
      "    accuracy                           0.87      2947\n",
      "   macro avg       0.87      0.87      0.87      2947\n",
      "weighted avg       0.88      0.87      0.87      2947\n",
      "\n"
     ]
    },
    {
     "data": {
      "image/png": "[encoded data removed]",
      "text/plain": [
       "<Figure size 1000x800 with 2 Axes>"
      ]
     },
     "metadata": {},
     "output_type": "display_data"
    }
   ],
   "source": [
    "classNames=[\"1\",\"2\",\"3\",\"4\",\"5\",\"6\"]\n",
    "display_results(testy,predictions,classNames)"
   ]
  },
  {
   "cell_type": "code",
   "execution_count": null,
   "id": "874aeb73",
   "metadata": {},
   "outputs": [],
   "source": []
  }
 ],
 "metadata": {
  "kernelspec": {
   "display_name": "Python 3 (ipykernel)",
   "language": "python",
   "name": "python3"
  },
  "language_info": {
   "codemirror_mode": {
    "name": "ipython",
    "version": 3
   },
   "file_extension": ".py",
   "mimetype": "text/x-python",
   "name": "python",
   "nbconvert_exporter": "python",
   "pygments_lexer": "ipython3",
   "version": "3.11.4"
  }
 },
 "nbformat": 4,
 "nbformat_minor": 5
}
