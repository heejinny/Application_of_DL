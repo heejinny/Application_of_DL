{
 "cells": [
  {
   "cell_type": "code",
   "execution_count": 1,
   "id": "936ad4ee",
   "metadata": {},
   "outputs": [],
   "source": [
    "import numpy as np\n",
    "import pandas as pd\n",
    "import tensorflow as tf\n",
    "from tensorflow.keras import Sequential\n",
    "from tensorflow.keras.layers import Flatten, Dense, Dropout, BatchNormalization, Conv2D, MaxPool2D\n",
    "from tensorflow.keras.optimizers import Adam\n",
    "from keras.datasets.mnist import load_data\n",
    "from keras.models import Model\n",
    "from keras.layers import Input, Reshape, Flatten, Conv2D, Conv2DTranspose, LeakyReLU, Dropout, Lambda, Activation\n",
    "from matplotlib import pyplot\n",
    "import glob\n",
    "import os\n",
    "from sklearn.model_selection import train_test_split\n",
    "from sklearn.preprocessing import StandardScaler, LabelEncoder\n",
    "from sklearn.preprocessing import OneHotEncoder\n",
    "from sklearn.preprocessing import scale\n",
    "from sklearn.linear_model import LogisticRegression\n",
    "from sklearn.tree import DecisionTreeClassifier\n",
    "from sklearn.neighbors import KNeighborsClassifier\n",
    "from sklearn.model_selection import cross_val_score\n",
    "from sklearn.metrics import accuracy_score\n",
    "import seaborn as sns\n",
    "import matplotlib.pyplot as plt\n",
    "import pandas as pd\n",
    "import numpy as np\n",
    "import os\n",
    "import tensorflow as tf\n",
    "from tensorflow.keras.optimizers import Adam"
   ]
  },
  {
   "cell_type": "code",
   "execution_count": 2,
   "id": "2cabfbe7",
   "metadata": {},
   "outputs": [],
   "source": [
    "features = pd.read_csv(\"/Users/kwonheejin/Documents/DL/dataset/pamap2.csv\", index_col=0)"
   ]
  },
  {
   "cell_type": "code",
   "execution_count": 3,
   "id": "7184b48e",
   "metadata": {},
   "outputs": [
    {
     "data": {
      "text/html": [
       "<div>\n",
       "<style scoped>\n",
       "    .dataframe tbody tr th:only-of-type {\n",
       "        vertical-align: middle;\n",
       "    }\n",
       "\n",
       "    .dataframe tbody tr th {\n",
       "        vertical-align: top;\n",
       "    }\n",
       "\n",
       "    .dataframe thead th {\n",
       "        text-align: right;\n",
       "    }\n",
       "</style>\n",
       "<table border=\"1\" class=\"dataframe\">\n",
       "  <thead>\n",
       "    <tr style=\"text-align: right;\">\n",
       "      <th></th>\n",
       "      <th>timestamp</th>\n",
       "      <th>activityID</th>\n",
       "      <th>heartrate</th>\n",
       "      <th>handTemperature</th>\n",
       "      <th>handAcc16_1</th>\n",
       "      <th>handAcc16_2</th>\n",
       "      <th>handAcc16_3</th>\n",
       "      <th>handAcc6_1</th>\n",
       "      <th>handAcc6_2</th>\n",
       "      <th>handAcc6_3</th>\n",
       "      <th>...</th>\n",
       "      <th>ankleGyro2</th>\n",
       "      <th>ankleGyro3</th>\n",
       "      <th>ankleMagne1</th>\n",
       "      <th>ankleMagne2</th>\n",
       "      <th>ankleMagne3</th>\n",
       "      <th>ankleOrientation1</th>\n",
       "      <th>ankleOrientation2</th>\n",
       "      <th>ankleOrientation3</th>\n",
       "      <th>ankleOrientation4</th>\n",
       "      <th>subject_id</th>\n",
       "    </tr>\n",
       "  </thead>\n",
       "  <tbody>\n",
       "    <tr>\n",
       "      <th>2932</th>\n",
       "      <td>37.70</td>\n",
       "      <td>1</td>\n",
       "      <td>100.0</td>\n",
       "      <td>30.3750</td>\n",
       "      <td>2.301060</td>\n",
       "      <td>7.25857</td>\n",
       "      <td>6.09259</td>\n",
       "      <td>2.207200</td>\n",
       "      <td>7.24042</td>\n",
       "      <td>5.95555</td>\n",
       "      <td>...</td>\n",
       "      <td>-0.048878</td>\n",
       "      <td>-0.006328</td>\n",
       "      <td>-60.2040</td>\n",
       "      <td>-37.1225</td>\n",
       "      <td>-57.8847</td>\n",
       "      <td>1.000000</td>\n",
       "      <td>0.000000</td>\n",
       "      <td>0.000000</td>\n",
       "      <td>0.000000</td>\n",
       "      <td>1</td>\n",
       "    </tr>\n",
       "    <tr>\n",
       "      <th>2943</th>\n",
       "      <td>37.81</td>\n",
       "      <td>1</td>\n",
       "      <td>100.0</td>\n",
       "      <td>30.3750</td>\n",
       "      <td>2.246150</td>\n",
       "      <td>7.48180</td>\n",
       "      <td>5.55219</td>\n",
       "      <td>2.251300</td>\n",
       "      <td>7.40595</td>\n",
       "      <td>5.65313</td>\n",
       "      <td>...</td>\n",
       "      <td>-0.017912</td>\n",
       "      <td>0.015243</td>\n",
       "      <td>-60.7820</td>\n",
       "      <td>-36.2116</td>\n",
       "      <td>-58.4891</td>\n",
       "      <td>1.000000</td>\n",
       "      <td>0.000000</td>\n",
       "      <td>0.000000</td>\n",
       "      <td>0.000000</td>\n",
       "      <td>1</td>\n",
       "    </tr>\n",
       "    <tr>\n",
       "      <th>2954</th>\n",
       "      <td>37.92</td>\n",
       "      <td>1</td>\n",
       "      <td>100.0</td>\n",
       "      <td>30.3750</td>\n",
       "      <td>2.300000</td>\n",
       "      <td>7.10681</td>\n",
       "      <td>6.09309</td>\n",
       "      <td>2.346130</td>\n",
       "      <td>7.46611</td>\n",
       "      <td>6.12103</td>\n",
       "      <td>...</td>\n",
       "      <td>-0.011798</td>\n",
       "      <td>0.011387</td>\n",
       "      <td>-61.4531</td>\n",
       "      <td>-36.2983</td>\n",
       "      <td>-58.4845</td>\n",
       "      <td>1.000000</td>\n",
       "      <td>0.000000</td>\n",
       "      <td>0.000000</td>\n",
       "      <td>0.000000</td>\n",
       "      <td>1</td>\n",
       "    </tr>\n",
       "    <tr>\n",
       "      <th>2965</th>\n",
       "      <td>38.03</td>\n",
       "      <td>1</td>\n",
       "      <td>100.0</td>\n",
       "      <td>30.3750</td>\n",
       "      <td>2.494550</td>\n",
       "      <td>7.52335</td>\n",
       "      <td>6.17157</td>\n",
       "      <td>2.591060</td>\n",
       "      <td>7.76653</td>\n",
       "      <td>6.27112</td>\n",
       "      <td>...</td>\n",
       "      <td>-0.009233</td>\n",
       "      <td>0.005823</td>\n",
       "      <td>-62.0065</td>\n",
       "      <td>-36.7217</td>\n",
       "      <td>-58.3608</td>\n",
       "      <td>1.000000</td>\n",
       "      <td>0.000000</td>\n",
       "      <td>0.000000</td>\n",
       "      <td>0.000000</td>\n",
       "      <td>1</td>\n",
       "    </tr>\n",
       "    <tr>\n",
       "      <th>2976</th>\n",
       "      <td>38.14</td>\n",
       "      <td>1</td>\n",
       "      <td>101.0</td>\n",
       "      <td>30.3750</td>\n",
       "      <td>2.716540</td>\n",
       "      <td>8.30596</td>\n",
       "      <td>4.78671</td>\n",
       "      <td>2.595960</td>\n",
       "      <td>7.94641</td>\n",
       "      <td>4.86635</td>\n",
       "      <td>...</td>\n",
       "      <td>-0.042562</td>\n",
       "      <td>-0.009289</td>\n",
       "      <td>-60.4311</td>\n",
       "      <td>-37.5412</td>\n",
       "      <td>-59.0013</td>\n",
       "      <td>1.000000</td>\n",
       "      <td>0.000000</td>\n",
       "      <td>0.000000</td>\n",
       "      <td>0.000000</td>\n",
       "      <td>1</td>\n",
       "    </tr>\n",
       "    <tr>\n",
       "      <th>...</th>\n",
       "      <td>...</td>\n",
       "      <td>...</td>\n",
       "      <td>...</td>\n",
       "      <td>...</td>\n",
       "      <td>...</td>\n",
       "      <td>...</td>\n",
       "      <td>...</td>\n",
       "      <td>...</td>\n",
       "      <td>...</td>\n",
       "      <td>...</td>\n",
       "      <td>...</td>\n",
       "      <td>...</td>\n",
       "      <td>...</td>\n",
       "      <td>...</td>\n",
       "      <td>...</td>\n",
       "      <td>...</td>\n",
       "      <td>...</td>\n",
       "      <td>...</td>\n",
       "      <td>...</td>\n",
       "      <td>...</td>\n",
       "      <td>...</td>\n",
       "    </tr>\n",
       "    <tr>\n",
       "      <th>2818402</th>\n",
       "      <td>3629.66</td>\n",
       "      <td>5</td>\n",
       "      <td>195.0</td>\n",
       "      <td>30.8125</td>\n",
       "      <td>0.565086</td>\n",
       "      <td>2.59595</td>\n",
       "      <td>9.27677</td>\n",
       "      <td>0.660681</td>\n",
       "      <td>2.70904</td>\n",
       "      <td>9.44024</td>\n",
       "      <td>...</td>\n",
       "      <td>-0.002287</td>\n",
       "      <td>-0.017737</td>\n",
       "      <td>-17.6912</td>\n",
       "      <td>12.0079</td>\n",
       "      <td>26.5782</td>\n",
       "      <td>0.164776</td>\n",
       "      <td>0.798149</td>\n",
       "      <td>0.227263</td>\n",
       "      <td>0.533065</td>\n",
       "      <td>8</td>\n",
       "    </tr>\n",
       "    <tr>\n",
       "      <th>2818413</th>\n",
       "      <td>3629.77</td>\n",
       "      <td>5</td>\n",
       "      <td>195.0</td>\n",
       "      <td>30.8125</td>\n",
       "      <td>0.570697</td>\n",
       "      <td>2.82459</td>\n",
       "      <td>9.39155</td>\n",
       "      <td>0.495537</td>\n",
       "      <td>2.75557</td>\n",
       "      <td>9.47051</td>\n",
       "      <td>...</td>\n",
       "      <td>-0.007246</td>\n",
       "      <td>0.007512</td>\n",
       "      <td>-17.6928</td>\n",
       "      <td>12.0076</td>\n",
       "      <td>26.4364</td>\n",
       "      <td>0.166393</td>\n",
       "      <td>0.797223</td>\n",
       "      <td>0.228965</td>\n",
       "      <td>0.533221</td>\n",
       "      <td>8</td>\n",
       "    </tr>\n",
       "    <tr>\n",
       "      <th>2818423</th>\n",
       "      <td>3629.87</td>\n",
       "      <td>5</td>\n",
       "      <td>195.0</td>\n",
       "      <td>30.8125</td>\n",
       "      <td>0.756704</td>\n",
       "      <td>2.78452</td>\n",
       "      <td>9.31749</td>\n",
       "      <td>0.781122</td>\n",
       "      <td>2.72325</td>\n",
       "      <td>9.40988</td>\n",
       "      <td>...</td>\n",
       "      <td>0.003818</td>\n",
       "      <td>0.017649</td>\n",
       "      <td>-17.9459</td>\n",
       "      <td>11.7619</td>\n",
       "      <td>26.1521</td>\n",
       "      <td>0.166735</td>\n",
       "      <td>0.797039</td>\n",
       "      <td>0.229771</td>\n",
       "      <td>0.533041</td>\n",
       "      <td>8</td>\n",
       "    </tr>\n",
       "    <tr>\n",
       "      <th>2818435</th>\n",
       "      <td>3629.99</td>\n",
       "      <td>5</td>\n",
       "      <td>195.0</td>\n",
       "      <td>30.8125</td>\n",
       "      <td>0.530504</td>\n",
       "      <td>2.67279</td>\n",
       "      <td>9.35297</td>\n",
       "      <td>0.540382</td>\n",
       "      <td>2.87591</td>\n",
       "      <td>9.30409</td>\n",
       "      <td>...</td>\n",
       "      <td>-0.003649</td>\n",
       "      <td>-0.002610</td>\n",
       "      <td>-18.2103</td>\n",
       "      <td>12.4200</td>\n",
       "      <td>26.5759</td>\n",
       "      <td>0.168936</td>\n",
       "      <td>0.795763</td>\n",
       "      <td>0.231222</td>\n",
       "      <td>0.533628</td>\n",
       "      <td>8</td>\n",
       "    </tr>\n",
       "    <tr>\n",
       "      <th>2818445</th>\n",
       "      <td>3630.09</td>\n",
       "      <td>5</td>\n",
       "      <td>195.0</td>\n",
       "      <td>30.8125</td>\n",
       "      <td>0.644139</td>\n",
       "      <td>2.70986</td>\n",
       "      <td>9.35454</td>\n",
       "      <td>0.630675</td>\n",
       "      <td>2.81489</td>\n",
       "      <td>9.34943</td>\n",
       "      <td>...</td>\n",
       "      <td>-0.009639</td>\n",
       "      <td>0.006757</td>\n",
       "      <td>-18.0830</td>\n",
       "      <td>12.2841</td>\n",
       "      <td>26.2929</td>\n",
       "      <td>0.170868</td>\n",
       "      <td>0.795143</td>\n",
       "      <td>0.232727</td>\n",
       "      <td>0.533282</td>\n",
       "      <td>8</td>\n",
       "    </tr>\n",
       "  </tbody>\n",
       "</table>\n",
       "<p>118516 rows × 55 columns</p>\n",
       "</div>"
      ],
      "text/plain": [
       "         timestamp  activityID  heartrate  handTemperature  handAcc16_1  \\\n",
       "2932         37.70           1      100.0          30.3750     2.301060   \n",
       "2943         37.81           1      100.0          30.3750     2.246150   \n",
       "2954         37.92           1      100.0          30.3750     2.300000   \n",
       "2965         38.03           1      100.0          30.3750     2.494550   \n",
       "2976         38.14           1      101.0          30.3750     2.716540   \n",
       "...            ...         ...        ...              ...          ...   \n",
       "2818402    3629.66           5      195.0          30.8125     0.565086   \n",
       "2818413    3629.77           5      195.0          30.8125     0.570697   \n",
       "2818423    3629.87           5      195.0          30.8125     0.756704   \n",
       "2818435    3629.99           5      195.0          30.8125     0.530504   \n",
       "2818445    3630.09           5      195.0          30.8125     0.644139   \n",
       "\n",
       "         handAcc16_2  handAcc16_3  handAcc6_1  handAcc6_2  handAcc6_3  ...  \\\n",
       "2932         7.25857      6.09259    2.207200     7.24042     5.95555  ...   \n",
       "2943         7.48180      5.55219    2.251300     7.40595     5.65313  ...   \n",
       "2954         7.10681      6.09309    2.346130     7.46611     6.12103  ...   \n",
       "2965         7.52335      6.17157    2.591060     7.76653     6.27112  ...   \n",
       "2976         8.30596      4.78671    2.595960     7.94641     4.86635  ...   \n",
       "...              ...          ...         ...         ...         ...  ...   \n",
       "2818402      2.59595      9.27677    0.660681     2.70904     9.44024  ...   \n",
       "2818413      2.82459      9.39155    0.495537     2.75557     9.47051  ...   \n",
       "2818423      2.78452      9.31749    0.781122     2.72325     9.40988  ...   \n",
       "2818435      2.67279      9.35297    0.540382     2.87591     9.30409  ...   \n",
       "2818445      2.70986      9.35454    0.630675     2.81489     9.34943  ...   \n",
       "\n",
       "         ankleGyro2  ankleGyro3  ankleMagne1  ankleMagne2  ankleMagne3  \\\n",
       "2932      -0.048878   -0.006328     -60.2040     -37.1225     -57.8847   \n",
       "2943      -0.017912    0.015243     -60.7820     -36.2116     -58.4891   \n",
       "2954      -0.011798    0.011387     -61.4531     -36.2983     -58.4845   \n",
       "2965      -0.009233    0.005823     -62.0065     -36.7217     -58.3608   \n",
       "2976      -0.042562   -0.009289     -60.4311     -37.5412     -59.0013   \n",
       "...             ...         ...          ...          ...          ...   \n",
       "2818402   -0.002287   -0.017737     -17.6912      12.0079      26.5782   \n",
       "2818413   -0.007246    0.007512     -17.6928      12.0076      26.4364   \n",
       "2818423    0.003818    0.017649     -17.9459      11.7619      26.1521   \n",
       "2818435   -0.003649   -0.002610     -18.2103      12.4200      26.5759   \n",
       "2818445   -0.009639    0.006757     -18.0830      12.2841      26.2929   \n",
       "\n",
       "         ankleOrientation1  ankleOrientation2  ankleOrientation3  \\\n",
       "2932              1.000000           0.000000           0.000000   \n",
       "2943              1.000000           0.000000           0.000000   \n",
       "2954              1.000000           0.000000           0.000000   \n",
       "2965              1.000000           0.000000           0.000000   \n",
       "2976              1.000000           0.000000           0.000000   \n",
       "...                    ...                ...                ...   \n",
       "2818402           0.164776           0.798149           0.227263   \n",
       "2818413           0.166393           0.797223           0.228965   \n",
       "2818423           0.166735           0.797039           0.229771   \n",
       "2818435           0.168936           0.795763           0.231222   \n",
       "2818445           0.170868           0.795143           0.232727   \n",
       "\n",
       "         ankleOrientation4  subject_id  \n",
       "2932              0.000000           1  \n",
       "2943              0.000000           1  \n",
       "2954              0.000000           1  \n",
       "2965              0.000000           1  \n",
       "2976              0.000000           1  \n",
       "...                    ...         ...  \n",
       "2818402           0.533065           8  \n",
       "2818413           0.533221           8  \n",
       "2818423           0.533041           8  \n",
       "2818435           0.533628           8  \n",
       "2818445           0.533282           8  \n",
       "\n",
       "[118516 rows x 55 columns]"
      ]
     },
     "execution_count": 3,
     "metadata": {},
     "output_type": "execute_result"
    }
   ],
   "source": [
    "features"
   ]
  },
  {
   "cell_type": "code",
   "execution_count": 4,
   "id": "47646d4c",
   "metadata": {},
   "outputs": [
    {
     "data": {
      "text/html": [
       "<div>\n",
       "<style scoped>\n",
       "    .dataframe tbody tr th:only-of-type {\n",
       "        vertical-align: middle;\n",
       "    }\n",
       "\n",
       "    .dataframe tbody tr th {\n",
       "        vertical-align: top;\n",
       "    }\n",
       "\n",
       "    .dataframe thead th {\n",
       "        text-align: right;\n",
       "    }\n",
       "</style>\n",
       "<table border=\"1\" class=\"dataframe\">\n",
       "  <thead>\n",
       "    <tr style=\"text-align: right;\">\n",
       "      <th></th>\n",
       "      <th>timestamp</th>\n",
       "      <th>activityID</th>\n",
       "      <th>heartrate</th>\n",
       "      <th>handTemperature</th>\n",
       "      <th>handAcc16_1</th>\n",
       "      <th>handAcc16_2</th>\n",
       "      <th>handAcc16_3</th>\n",
       "      <th>handAcc6_1</th>\n",
       "      <th>handAcc6_2</th>\n",
       "      <th>handAcc6_3</th>\n",
       "      <th>...</th>\n",
       "      <th>ankleGyro2</th>\n",
       "      <th>ankleGyro3</th>\n",
       "      <th>ankleMagne1</th>\n",
       "      <th>ankleMagne2</th>\n",
       "      <th>ankleMagne3</th>\n",
       "      <th>ankleOrientation1</th>\n",
       "      <th>ankleOrientation2</th>\n",
       "      <th>ankleOrientation3</th>\n",
       "      <th>ankleOrientation4</th>\n",
       "      <th>subject_id</th>\n",
       "    </tr>\n",
       "  </thead>\n",
       "  <tbody>\n",
       "    <tr>\n",
       "      <th>2932</th>\n",
       "      <td>37.70</td>\n",
       "      <td>0</td>\n",
       "      <td>100.0</td>\n",
       "      <td>30.375</td>\n",
       "      <td>2.30106</td>\n",
       "      <td>7.25857</td>\n",
       "      <td>6.09259</td>\n",
       "      <td>2.20720</td>\n",
       "      <td>7.24042</td>\n",
       "      <td>5.95555</td>\n",
       "      <td>...</td>\n",
       "      <td>-0.048878</td>\n",
       "      <td>-0.006328</td>\n",
       "      <td>-60.2040</td>\n",
       "      <td>-37.1225</td>\n",
       "      <td>-57.8847</td>\n",
       "      <td>1.0</td>\n",
       "      <td>0.0</td>\n",
       "      <td>0.0</td>\n",
       "      <td>0.0</td>\n",
       "      <td>1</td>\n",
       "    </tr>\n",
       "    <tr>\n",
       "      <th>2943</th>\n",
       "      <td>37.81</td>\n",
       "      <td>0</td>\n",
       "      <td>100.0</td>\n",
       "      <td>30.375</td>\n",
       "      <td>2.24615</td>\n",
       "      <td>7.48180</td>\n",
       "      <td>5.55219</td>\n",
       "      <td>2.25130</td>\n",
       "      <td>7.40595</td>\n",
       "      <td>5.65313</td>\n",
       "      <td>...</td>\n",
       "      <td>-0.017912</td>\n",
       "      <td>0.015243</td>\n",
       "      <td>-60.7820</td>\n",
       "      <td>-36.2116</td>\n",
       "      <td>-58.4891</td>\n",
       "      <td>1.0</td>\n",
       "      <td>0.0</td>\n",
       "      <td>0.0</td>\n",
       "      <td>0.0</td>\n",
       "      <td>1</td>\n",
       "    </tr>\n",
       "    <tr>\n",
       "      <th>2954</th>\n",
       "      <td>37.92</td>\n",
       "      <td>0</td>\n",
       "      <td>100.0</td>\n",
       "      <td>30.375</td>\n",
       "      <td>2.30000</td>\n",
       "      <td>7.10681</td>\n",
       "      <td>6.09309</td>\n",
       "      <td>2.34613</td>\n",
       "      <td>7.46611</td>\n",
       "      <td>6.12103</td>\n",
       "      <td>...</td>\n",
       "      <td>-0.011798</td>\n",
       "      <td>0.011387</td>\n",
       "      <td>-61.4531</td>\n",
       "      <td>-36.2983</td>\n",
       "      <td>-58.4845</td>\n",
       "      <td>1.0</td>\n",
       "      <td>0.0</td>\n",
       "      <td>0.0</td>\n",
       "      <td>0.0</td>\n",
       "      <td>1</td>\n",
       "    </tr>\n",
       "    <tr>\n",
       "      <th>2965</th>\n",
       "      <td>38.03</td>\n",
       "      <td>0</td>\n",
       "      <td>100.0</td>\n",
       "      <td>30.375</td>\n",
       "      <td>2.49455</td>\n",
       "      <td>7.52335</td>\n",
       "      <td>6.17157</td>\n",
       "      <td>2.59106</td>\n",
       "      <td>7.76653</td>\n",
       "      <td>6.27112</td>\n",
       "      <td>...</td>\n",
       "      <td>-0.009233</td>\n",
       "      <td>0.005823</td>\n",
       "      <td>-62.0065</td>\n",
       "      <td>-36.7217</td>\n",
       "      <td>-58.3608</td>\n",
       "      <td>1.0</td>\n",
       "      <td>0.0</td>\n",
       "      <td>0.0</td>\n",
       "      <td>0.0</td>\n",
       "      <td>1</td>\n",
       "    </tr>\n",
       "    <tr>\n",
       "      <th>2976</th>\n",
       "      <td>38.14</td>\n",
       "      <td>0</td>\n",
       "      <td>101.0</td>\n",
       "      <td>30.375</td>\n",
       "      <td>2.71654</td>\n",
       "      <td>8.30596</td>\n",
       "      <td>4.78671</td>\n",
       "      <td>2.59596</td>\n",
       "      <td>7.94641</td>\n",
       "      <td>4.86635</td>\n",
       "      <td>...</td>\n",
       "      <td>-0.042562</td>\n",
       "      <td>-0.009289</td>\n",
       "      <td>-60.4311</td>\n",
       "      <td>-37.5412</td>\n",
       "      <td>-59.0013</td>\n",
       "      <td>1.0</td>\n",
       "      <td>0.0</td>\n",
       "      <td>0.0</td>\n",
       "      <td>0.0</td>\n",
       "      <td>1</td>\n",
       "    </tr>\n",
       "  </tbody>\n",
       "</table>\n",
       "<p>5 rows × 55 columns</p>\n",
       "</div>"
      ],
      "text/plain": [
       "      timestamp  activityID  heartrate  handTemperature  handAcc16_1  \\\n",
       "2932      37.70           0      100.0           30.375      2.30106   \n",
       "2943      37.81           0      100.0           30.375      2.24615   \n",
       "2954      37.92           0      100.0           30.375      2.30000   \n",
       "2965      38.03           0      100.0           30.375      2.49455   \n",
       "2976      38.14           0      101.0           30.375      2.71654   \n",
       "\n",
       "      handAcc16_2  handAcc16_3  handAcc6_1  handAcc6_2  handAcc6_3  ...  \\\n",
       "2932      7.25857      6.09259     2.20720     7.24042     5.95555  ...   \n",
       "2943      7.48180      5.55219     2.25130     7.40595     5.65313  ...   \n",
       "2954      7.10681      6.09309     2.34613     7.46611     6.12103  ...   \n",
       "2965      7.52335      6.17157     2.59106     7.76653     6.27112  ...   \n",
       "2976      8.30596      4.78671     2.59596     7.94641     4.86635  ...   \n",
       "\n",
       "      ankleGyro2  ankleGyro3  ankleMagne1  ankleMagne2  ankleMagne3  \\\n",
       "2932   -0.048878   -0.006328     -60.2040     -37.1225     -57.8847   \n",
       "2943   -0.017912    0.015243     -60.7820     -36.2116     -58.4891   \n",
       "2954   -0.011798    0.011387     -61.4531     -36.2983     -58.4845   \n",
       "2965   -0.009233    0.005823     -62.0065     -36.7217     -58.3608   \n",
       "2976   -0.042562   -0.009289     -60.4311     -37.5412     -59.0013   \n",
       "\n",
       "      ankleOrientation1  ankleOrientation2  ankleOrientation3  \\\n",
       "2932                1.0                0.0                0.0   \n",
       "2943                1.0                0.0                0.0   \n",
       "2954                1.0                0.0                0.0   \n",
       "2965                1.0                0.0                0.0   \n",
       "2976                1.0                0.0                0.0   \n",
       "\n",
       "      ankleOrientation4  subject_id  \n",
       "2932                0.0           1  \n",
       "2943                0.0           1  \n",
       "2954                0.0           1  \n",
       "2965                0.0           1  \n",
       "2976                0.0           1  \n",
       "\n",
       "[5 rows x 55 columns]"
      ]
     },
     "execution_count": 4,
     "metadata": {},
     "output_type": "execute_result"
    }
   ],
   "source": [
    "label = LabelEncoder()\n",
    "features['activityID'] = label.fit_transform(features['activityID'])\n",
    "features.head()"
   ]
  },
  {
   "cell_type": "code",
   "execution_count": 5,
   "id": "375e2fb6",
   "metadata": {},
   "outputs": [
    {
     "data": {
      "text/plain": [
       "3    20998\n",
       "0    17575\n",
       "2    17256\n",
       "1    16881\n",
       "5    16857\n",
       "6    10699\n",
       "7     9585\n",
       "4     8665\n",
       "Name: activityID, dtype: int64"
      ]
     },
     "execution_count": 5,
     "metadata": {},
     "output_type": "execute_result"
    }
   ],
   "source": [
    "features['activityID'].value_counts()"
   ]
  },
  {
   "cell_type": "code",
   "execution_count": 6,
   "id": "7a30775e",
   "metadata": {},
   "outputs": [
    {
     "data": {
      "text/plain": [
       "<Axes: xlabel='activityID', ylabel='count'>"
      ]
     },
     "execution_count": 6,
     "metadata": {},
     "output_type": "execute_result"
    },
    {
     "data": {
      "image/png": "[encoded data removed]",
      "text/plain": [
       "<Figure size 640x480 with 1 Axes>"
      ]
     },
     "metadata": {},
     "output_type": "display_data"
    }
   ],
   "source": [
    "sns.countplot(x = \"activityID\", data = features, order = features.activityID.value_counts().index)"
   ]
  },
  {
   "cell_type": "code",
   "execution_count": 7,
   "id": "d1f70e5b",
   "metadata": {},
   "outputs": [],
   "source": [
    "indexes = features[features['activityID'] == 0].index\n",
    "features.drop(indexes , inplace=True)"
   ]
  },
  {
   "cell_type": "code",
   "execution_count": 8,
   "id": "a3a231e6",
   "metadata": {},
   "outputs": [
    {
     "data": {
      "text/plain": [
       "3    20998\n",
       "2    17256\n",
       "1    16881\n",
       "5    16857\n",
       "6    10699\n",
       "7     9585\n",
       "4     8665\n",
       "Name: activityID, dtype: int64"
      ]
     },
     "execution_count": 8,
     "metadata": {},
     "output_type": "execute_result"
    }
   ],
   "source": [
    "features['activityID'].value_counts()"
   ]
  },
  {
   "cell_type": "code",
   "execution_count": 9,
   "id": "a83b1364",
   "metadata": {},
   "outputs": [],
   "source": [
    "from sklearn.preprocessing import StandardScaler"
   ]
  },
  {
   "cell_type": "code",
   "execution_count": 10,
   "id": "90e688c7",
   "metadata": {},
   "outputs": [
    {
     "data": {
      "text/plain": [
       "(100941, 13)"
      ]
     },
     "execution_count": 10,
     "metadata": {},
     "output_type": "execute_result"
    }
   ],
   "source": [
    "hand_data=features[['handAcc16_1', 'handAcc16_2', 'handAcc16_3', \n",
    "                     'handAcc6_1', 'handAcc6_2', 'handAcc6_3', \n",
    "                     'handGyro1', 'handGyro2', 'handGyro3', \n",
    "                     'handMagne1', 'handMagne2', 'handMagne3', 'activityID']]\n",
    "                    \n",
    "hand_X=hand_data[['handAcc16_1', 'handAcc16_2', 'handAcc16_3', \n",
    "                     'handAcc6_1', 'handAcc6_2', 'handAcc6_3', \n",
    "                     'handGyro1', 'handGyro2', 'handGyro3', \n",
    "                     'handMagne1', 'handMagne2', 'handMagne3']]\n",
    "\n",
    "hand_y= hand_data['activityID']\n",
    "\n",
    "scaler = StandardScaler()\n",
    "hand_X = scaler.fit_transform(hand_X)\n",
    "\n",
    "scaled_hand_X = pd.DataFrame(data = hand_X, columns = \n",
    "                    ['handAcc16_1', 'handAcc16_2', 'handAcc16_3', \n",
    "                     'handAcc6_1', 'handAcc6_2', 'handAcc6_3', \n",
    "                     'handGyro1', 'handGyro2', 'handGyro3', \n",
    "                     'handMagne1', 'handMagne2', 'handMagne3'])\n",
    "\n",
    "scaled_hand_X['label'] = hand_y.values\n",
    "\n",
    "scaled_hand_X.head(10)\n",
    "scaled_hand_X.shape"
   ]
  },
  {
   "cell_type": "code",
   "execution_count": 11,
   "id": "b9818458",
   "metadata": {},
   "outputs": [
    {
     "data": {
      "text/plain": [
       "(100941, 13)"
      ]
     },
     "execution_count": 11,
     "metadata": {},
     "output_type": "execute_result"
    }
   ],
   "source": [
    "chest_data = features[['chestAcc16_1', 'chestAcc16_2', 'chestAcc16_3', \n",
    "                     'chestAcc6_1', 'chestAcc6_2', 'chestAcc6_3', \n",
    "                     'chestGyro1', 'chestGyro2', 'chestGyro3', \n",
    "                     'chestMagne1', 'chestMagne2', 'chestMagne3', 'activityID']]\n",
    "\n",
    "chest_X = chest_data[['chestAcc16_1', 'chestAcc16_2', 'chestAcc16_3', \n",
    "                     'chestAcc6_1', 'chestAcc6_2', 'chestAcc6_3', \n",
    "                     'chestGyro1', 'chestGyro2', 'chestGyro3', \n",
    "                     'chestMagne1', 'chestMagne2', 'chestMagne3']]\n",
    "\n",
    "chest_y = chest_data['activityID']\n",
    "\n",
    "scaler = StandardScaler()\n",
    "chest_X = scaler.fit_transform(chest_X)\n",
    "\n",
    "scaled_chest_X = pd.DataFrame(data=chest_X, columns=\n",
    "                    ['chestAcc16_1', 'chestAcc16_2', 'chestAcc16_3', \n",
    "                     'chestAcc6_1', 'chestAcc6_2', 'chestAcc6_3', \n",
    "                     'chestGyro1', 'chestGyro2', 'chestGyro3', \n",
    "                     'chestMagne1', 'chestMagne2', 'chestMagne3'])\n",
    "\n",
    "scaled_chest_X['label'] = chest_y.values\n",
    "\n",
    "scaled_chest_X.head(10)\n",
    "scaled_chest_X.shape"
   ]
  },
  {
   "cell_type": "code",
   "execution_count": 12,
   "id": "1f9af12e",
   "metadata": {},
   "outputs": [],
   "source": [
    "from sklearn.model_selection import train_test_split\n",
    "\n",
    "X_train_hand, X_test_hand, y_train_hand, y_test_hand = train_test_split(scaled_hand_X, \n",
    "                                                    scaled_hand_X[\"label\"],\n",
    "                                                    test_size = 0.25, \n",
    "                                                    shuffle = True, \n",
    "                                                    random_state = 21)"
   ]
  },
  {
   "cell_type": "code",
   "execution_count": 13,
   "id": "0577fd62",
   "metadata": {},
   "outputs": [],
   "source": [
    "from sklearn.model_selection import train_test_split\n",
    "\n",
    "X_train_chest, X_test_chest, y_train_chest, y_test_chest = train_test_split(scaled_chest_X, \n",
    "                                                    scaled_chest_X[\"label\"],\n",
    "                                                    test_size = 0.25, \n",
    "                                                    shuffle = True, \n",
    "                                                    random_state = 21)\n"
   ]
  },
  {
   "cell_type": "code",
   "execution_count": 14,
   "id": "abf5174a",
   "metadata": {},
   "outputs": [
    {
     "data": {
      "text/plain": [
       "3    15757\n",
       "2    12937\n",
       "5    12641\n",
       "1    12632\n",
       "6     8052\n",
       "7     7180\n",
       "4     6506\n",
       "Name: label, dtype: int64"
      ]
     },
     "execution_count": 14,
     "metadata": {},
     "output_type": "execute_result"
    }
   ],
   "source": [
    "X_train_hand['label'].value_counts()"
   ]
  },
  {
   "cell_type": "code",
   "execution_count": 15,
   "id": "58fe1263",
   "metadata": {},
   "outputs": [
    {
     "data": {
      "text/plain": [
       "3    5241\n",
       "2    4319\n",
       "1    4249\n",
       "5    4216\n",
       "6    2647\n",
       "7    2405\n",
       "4    2159\n",
       "Name: label, dtype: int64"
      ]
     },
     "execution_count": 15,
     "metadata": {},
     "output_type": "execute_result"
    }
   ],
   "source": [
    "X_test_hand['label'].value_counts()"
   ]
  },
  {
   "cell_type": "code",
   "execution_count": 16,
   "id": "8278981f",
   "metadata": {},
   "outputs": [
    {
     "data": {
      "text/plain": [
       "3    15757\n",
       "2    12937\n",
       "5    12641\n",
       "1    12632\n",
       "6     8052\n",
       "7     7180\n",
       "4     6506\n",
       "Name: label, dtype: int64"
      ]
     },
     "execution_count": 16,
     "metadata": {},
     "output_type": "execute_result"
    }
   ],
   "source": [
    "X_train_chest['label'].value_counts()"
   ]
  },
  {
   "cell_type": "code",
   "execution_count": 17,
   "id": "3e07291e",
   "metadata": {},
   "outputs": [
    {
     "data": {
      "text/plain": [
       "3    5241\n",
       "2    4319\n",
       "1    4249\n",
       "5    4216\n",
       "6    2647\n",
       "7    2405\n",
       "4    2159\n",
       "Name: label, dtype: int64"
      ]
     },
     "execution_count": 17,
     "metadata": {},
     "output_type": "execute_result"
    }
   ],
   "source": [
    "X_test_chest['label'].value_counts()"
   ]
  },
  {
   "cell_type": "code",
   "execution_count": 18,
   "id": "828fe3b6",
   "metadata": {},
   "outputs": [],
   "source": [
    "# The number of steps within one time segment\n",
    "TIME_PERIODS = 80\n",
    "\n",
    "# The steps to take from one segment to the next; if this value is equal to TIME_PERIODS, then there is\n",
    "# no overlap between the segments\n",
    "STEP_DISTANCE = 40"
   ]
  },
  {
   "cell_type": "code",
   "execution_count": 19,
   "id": "f79a4b6d",
   "metadata": {},
   "outputs": [
    {
     "name": "stdout",
     "output_type": "stream",
     "text": [
      "(75705, 13) (25236, 13)\n",
      "(75705,) (25236,)\n"
     ]
    }
   ],
   "source": [
    "print(X_train_hand.shape, X_test_hand.shape)\n",
    "print(y_train_hand.shape, y_test_hand.shape)"
   ]
  },
  {
   "cell_type": "code",
   "execution_count": 20,
   "id": "c6e9ce1e",
   "metadata": {},
   "outputs": [
    {
     "name": "stdout",
     "output_type": "stream",
     "text": [
      "(75705, 13) (25236, 13)\n",
      "(75705,) (25236,)\n"
     ]
    }
   ],
   "source": [
    "print(X_train_chest.shape, X_test_chest.shape)\n",
    "print(y_train_chest.shape, y_test_chest.shape)"
   ]
  },
  {
   "cell_type": "code",
   "execution_count": 21,
   "id": "7173b5cd",
   "metadata": {},
   "outputs": [
    {
     "name": "stdout",
     "output_type": "stream",
     "text": [
      "Train data label statistics::\n",
      "[[    1 12632]\n",
      " [    2 12937]\n",
      " [    3 15757]\n",
      " [    4  6506]\n",
      " [    5 12641]\n",
      " [    6  8052]\n",
      " [    7  7180]]\n",
      "Test data label statistics::\n",
      "[[   1 4249]\n",
      " [   2 4319]\n",
      " [   3 5241]\n",
      " [   4 2159]\n",
      " [   5 4216]\n",
      " [   6 2647]\n",
      " [   7 2405]]\n"
     ]
    }
   ],
   "source": [
    "from matplotlib import pyplot as plt\n",
    "%matplotlib inline\n",
    "import pandas as pd\n",
    "import numpy as np\n",
    "import math\n",
    "from sklearn.model_selection import train_test_split\n",
    "\n",
    "unique, counts = np.unique(y_train_hand, return_counts=True)\n",
    "print (\"Train data label statistics::\")\n",
    "print (np.asarray((unique, counts)).T)  \n",
    "\n",
    "unique, counts = np.unique(y_test_hand, return_counts=True)\n",
    "print (\"Test data label statistics::\")\n",
    "print (np.asarray((unique, counts)).T)"
   ]
  },
  {
   "cell_type": "code",
   "execution_count": 22,
   "id": "ef27fed1",
   "metadata": {},
   "outputs": [],
   "source": [
    "from scipy import stats\n",
    "\n",
    "def create_dataset(X, y, time_steps=1, step=1):\n",
    "    Xs, ys = [], []\n",
    "    for i in range(0, len(X) - time_steps, step):\n",
    "        v = X.iloc[i:(i + time_steps)].values\n",
    "        labels = y.iloc[i: i + time_steps]\n",
    "        Xs.append(v)        \n",
    "        ys.append(stats.mode(labels)[0][0])\n",
    "       \n",
    "        # Retrieve the most often used label in this segment\n",
    "        \n",
    "    return np.array(Xs), np.array(ys).reshape(-1, 1)\n",
    "\n",
    "TIME_STEPS = 1\n",
    "STEP = 1"
   ]
  },
  {
   "cell_type": "code",
   "execution_count": 23,
   "id": "7caebe0d",
   "metadata": {},
   "outputs": [
    {
     "name": "stderr",
     "output_type": "stream",
     "text": [
      "/var/folders/_y/cmlp5dyd3tdb35r5_kr1z35w0000gn/T/ipykernel_84763/326321166.py:9: FutureWarning: Unlike other reduction functions (e.g. `skew`, `kurtosis`), the default behavior of `mode` typically preserves the axis it acts along. In SciPy 1.11.0, this behavior will change: the default value of `keepdims` will become False, the `axis` over which the statistic is taken will be eliminated, and the value None will no longer be accepted. Set `keepdims` to True or False to avoid this warning.\n",
      "  ys.append(stats.mode(labels)[0][0])\n",
      "/var/folders/_y/cmlp5dyd3tdb35r5_kr1z35w0000gn/T/ipykernel_84763/326321166.py:9: FutureWarning: Unlike other reduction functions (e.g. `skew`, `kurtosis`), the default behavior of `mode` typically preserves the axis it acts along. In SciPy 1.11.0, this behavior will change: the default value of `keepdims` will become False, the `axis` over which the statistic is taken will be eliminated, and the value None will no longer be accepted. Set `keepdims` to True or False to avoid this warning.\n",
      "  ys.append(stats.mode(labels)[0][0])\n"
     ]
    },
    {
     "name": "stdout",
     "output_type": "stream",
     "text": [
      "(75704, 1, 12) (75704, 1)\n"
     ]
    }
   ],
   "source": [
    "X_train_hand, y_train_hand = create_dataset(X_train_hand[['handAcc16_1', 'handAcc16_2', 'handAcc16_3', \n",
    "                     'handAcc6_1', 'handAcc6_2', 'handAcc6_3', \n",
    "                     'handGyro1', 'handGyro2', 'handGyro3', \n",
    "                     'handMagne1', 'handMagne2', 'handMagne3']], X_train_hand.label, TIME_STEPS, STEP)\n",
    "\n",
    "X_test_hand, y_test_hand = create_dataset(X_test_hand[['handAcc16_1', 'handAcc16_2', 'handAcc16_3', \n",
    "                     'handAcc6_1', 'handAcc6_2', 'handAcc6_3', \n",
    "                     'handGyro1', 'handGyro2', 'handGyro3', \n",
    "                     'handMagne1', 'handMagne2', 'handMagne3']], X_test_hand.label, TIME_STEPS, STEP)\n",
    "print(X_train_hand.shape, y_train_hand.shape)"
   ]
  },
  {
   "cell_type": "code",
   "execution_count": 24,
   "id": "9c00787c",
   "metadata": {},
   "outputs": [
    {
     "name": "stderr",
     "output_type": "stream",
     "text": [
      "/var/folders/_y/cmlp5dyd3tdb35r5_kr1z35w0000gn/T/ipykernel_84763/326321166.py:9: FutureWarning: Unlike other reduction functions (e.g. `skew`, `kurtosis`), the default behavior of `mode` typically preserves the axis it acts along. In SciPy 1.11.0, this behavior will change: the default value of `keepdims` will become False, the `axis` over which the statistic is taken will be eliminated, and the value None will no longer be accepted. Set `keepdims` to True or False to avoid this warning.\n",
      "  ys.append(stats.mode(labels)[0][0])\n",
      "/var/folders/_y/cmlp5dyd3tdb35r5_kr1z35w0000gn/T/ipykernel_84763/326321166.py:9: FutureWarning: Unlike other reduction functions (e.g. `skew`, `kurtosis`), the default behavior of `mode` typically preserves the axis it acts along. In SciPy 1.11.0, this behavior will change: the default value of `keepdims` will become False, the `axis` over which the statistic is taken will be eliminated, and the value None will no longer be accepted. Set `keepdims` to True or False to avoid this warning.\n",
      "  ys.append(stats.mode(labels)[0][0])\n"
     ]
    },
    {
     "name": "stdout",
     "output_type": "stream",
     "text": [
      "(75704, 1, 12) (75704, 1)\n"
     ]
    }
   ],
   "source": [
    "X_train_chest, y_train_chest = create_dataset(X_train_chest[['chestAcc16_1', 'chestAcc16_2', 'chestAcc16_3', \n",
    "                     'chestAcc6_1', 'chestAcc6_2', 'chestAcc6_3',\n",
    "                     'chestGyro1', 'chestGyro2', 'chestGyro3', \n",
    "                     'chestMagne1', 'chestMagne2', 'chestMagne3']], X_train_chest.label, TIME_STEPS, STEP)\n",
    "\n",
    "X_test_chest, y_test_chest = create_dataset(X_test_chest[['chestAcc16_1', 'chestAcc16_2', 'chestAcc16_3', \n",
    "                     'chestAcc6_1', 'chestAcc6_2', 'chestAcc6_3', \n",
    "                     'chestGyro1', 'chestGyro2', 'chestGyro3',\n",
    "                     'chestMagne1', 'chestMagne2', 'chestMagne3']], X_test_chest.label, TIME_STEPS, STEP)\n",
    "print(X_train_chest.shape, y_train_chest.shape)"
   ]
  },
  {
   "cell_type": "code",
   "execution_count": 25,
   "id": "722a3423",
   "metadata": {},
   "outputs": [
    {
     "name": "stderr",
     "output_type": "stream",
     "text": [
      "/Users/kwonheejin/anaconda3/lib/python3.11/site-packages/sklearn/preprocessing/_encoders.py:972: FutureWarning: `sparse` was renamed to `sparse_output` in version 1.2 and will be removed in 1.4. `sparse_output` is ignored unless you leave `sparse` to its default value.\n",
      "  warnings.warn(\n"
     ]
    }
   ],
   "source": [
    "from sklearn.preprocessing import OneHotEncoder\n",
    "\n",
    "enc1 = OneHotEncoder(handle_unknown = \"ignore\", sparse = False)\n",
    "enc1 = enc1.fit(y_train_hand)\n",
    "\n",
    "y_train_hand = enc1.transform(y_train_hand)\n",
    "y_test_hand = enc1.transform(y_test_hand)"
   ]
  },
  {
   "cell_type": "code",
   "execution_count": 26,
   "id": "d237e89f",
   "metadata": {},
   "outputs": [
    {
     "name": "stderr",
     "output_type": "stream",
     "text": [
      "/Users/kwonheejin/anaconda3/lib/python3.11/site-packages/sklearn/preprocessing/_encoders.py:972: FutureWarning: `sparse` was renamed to `sparse_output` in version 1.2 and will be removed in 1.4. `sparse_output` is ignored unless you leave `sparse` to its default value.\n",
      "  warnings.warn(\n"
     ]
    }
   ],
   "source": [
    "from sklearn.preprocessing import OneHotEncoder\n",
    "\n",
    "enc2 = OneHotEncoder(handle_unknown = \"ignore\", sparse = False)\n",
    "enc2 = enc2.fit(y_train_chest)\n",
    "\n",
    "y_train_chest = enc1.transform(y_train_chest)\n",
    "y_test_chest = enc1.transform(y_test_chest)"
   ]
  },
  {
   "cell_type": "code",
   "execution_count": 27,
   "id": "0a6e98d4",
   "metadata": {},
   "outputs": [
    {
     "name": "stdout",
     "output_type": "stream",
     "text": [
      "X_train.shape:  (75704, 1, 12)\n",
      "X_test.shape  (25235, 1, 12)\n",
      "y_train.shape  (75704, 7)\n",
      "y_test.shape  (25235, 7)\n"
     ]
    }
   ],
   "source": [
    "print(\"X_train.shape: \", X_train_hand.shape)\n",
    "print(\"X_test.shape \", X_test_hand.shape)\n",
    "print(\"y_train.shape \", y_train_hand.shape)\n",
    "print(\"y_test.shape \", y_test_hand.shape)"
   ]
  },
  {
   "cell_type": "code",
   "execution_count": 28,
   "id": "6052038a",
   "metadata": {},
   "outputs": [
    {
     "name": "stdout",
     "output_type": "stream",
     "text": [
      "X_train.shape:  (75704, 1, 12)\n",
      "X_test.shape  (25235, 1, 12)\n",
      "y_train.shape  (75704, 7)\n",
      "y_test.shape  (25235, 7)\n"
     ]
    }
   ],
   "source": [
    "print(\"X_train.shape: \", X_train_chest.shape)\n",
    "print(\"X_test.shape \", X_test_chest.shape)\n",
    "print(\"y_train.shape \", y_train_chest.shape)\n",
    "print(\"y_test.shape \", y_test_chest.shape)"
   ]
  },
  {
   "cell_type": "code",
   "execution_count": 29,
   "id": "126a7680",
   "metadata": {},
   "outputs": [],
   "source": [
    "import numpy as np\n",
    "import tensorflow as tf\n",
    "from tensorflow import keras\n",
    "from tensorflow.keras.layers import Bidirectional, LSTM, Dropout, Dense\n",
    "import pandas as pd\n",
    "import seaborn as sns\n",
    "from pylab import rcParams\n",
    "import matplotlib.pyplot as plt\n",
    "from matplotlib import rc\n",
    "from pandas.plotting import register_matplotlib_converters"
   ]
  },
  {
   "cell_type": "code",
   "execution_count": 30,
   "id": "5b4eb081",
   "metadata": {},
   "outputs": [],
   "source": [
    "import tensorflow as tf\n",
    "from tensorflow import keras\n",
    "from tensorflow.keras import layers\n",
    "\n",
    "# cnn model vary kernel size\n",
    "from numpy import mean\n",
    "from numpy import std\n",
    "from numpy import dstack\n",
    "from pandas import read_csv\n",
    "from matplotlib import pyplot\n",
    "from tensorflow.keras.models import Sequential\n",
    "from tensorflow.keras.layers import Dense\n",
    "from tensorflow.keras.layers import Flatten\n",
    "from tensorflow.keras.layers import Dropout\n",
    "from tensorflow.keras.utils import to_categorical\n",
    "\n",
    "import tensorflow.keras\n",
    "from tensorflow.keras.models import Sequential\n",
    "from tensorflow.keras.layers import Dense, Dropout, Flatten, Reshape, LSTM, Conv1D, MaxPooling1D\n",
    "from tensorflow.keras.layers import TimeDistributed, Conv1D, MaxPooling1D\n",
    "# from keras.utils import np_utils"
   ]
  },
  {
   "cell_type": "code",
   "execution_count": 31,
   "id": "93027b80",
   "metadata": {},
   "outputs": [],
   "source": [
    "verbose,epochs,batch_size=1,10,32 \n",
    "\n",
    "n_timesteps,n_features,n_outputs=X_train_hand.shape[1],X_train_hand.shape[2],y_train_hand.shape[1]"
   ]
  },
  {
   "cell_type": "code",
   "execution_count": 32,
   "id": "65902607",
   "metadata": {},
   "outputs": [
    {
     "data": {
      "text/plain": [
       "(1, 12, 7)"
      ]
     },
     "execution_count": 32,
     "metadata": {},
     "output_type": "execute_result"
    }
   ],
   "source": [
    "n_timesteps, n_features, n_outputs\n"
   ]
  },
  {
   "cell_type": "code",
   "execution_count": 33,
   "id": "4df6fa9e",
   "metadata": {},
   "outputs": [],
   "source": [
    "# Training and evaluating the LSTM model\n",
    "\n",
    "model = keras.Sequential()\n",
    "model.add(Bidirectional(LSTM(units = 128, input_shape = [X_train_hand.shape[1], X_train_hand.shape[2]])))\n",
    "model.add(Dropout(rate = 0.5))\n",
    "model.add(Dense(units = 128, activation = \"relu\"))\n",
    "model.add(Dense(y_train_hand.shape[1], activation = \"softmax\"))\n",
    "model.compile(loss = \"categorical_crossentropy\", optimizer = \"adam\", metrics = [\"acc\"])"
   ]
  },
  {
   "cell_type": "code",
   "execution_count": 34,
   "id": "d3fd2501",
   "metadata": {},
   "outputs": [
    {
     "name": "stdout",
     "output_type": "stream",
     "text": [
      "Epoch 1/10\n",
      "2130/2130 [==============================] - 3s 1ms/step - loss: 0.9508 - acc: 0.6872 - val_loss: 0.7399 - val_acc: 0.7556\n",
      "Epoch 2/10\n",
      "2130/2130 [==============================] - 2s 1ms/step - loss: 0.7437 - acc: 0.7506 - val_loss: 0.6553 - val_acc: 0.7793\n",
      "Epoch 3/10\n",
      "2130/2130 [==============================] - 2s 1ms/step - loss: 0.6793 - acc: 0.7695 - val_loss: 0.5938 - val_acc: 0.8012\n",
      "Epoch 4/10\n",
      "2130/2130 [==============================] - 2s 1ms/step - loss: 0.6352 - acc: 0.7829 - val_loss: 0.5637 - val_acc: 0.8066\n",
      "Epoch 5/10\n",
      "2130/2130 [==============================] - 2s 1ms/step - loss: 0.6078 - acc: 0.7899 - val_loss: 0.5363 - val_acc: 0.8146\n",
      "Epoch 6/10\n",
      "2130/2130 [==============================] - 2s 1ms/step - loss: 0.5855 - acc: 0.7977 - val_loss: 0.5163 - val_acc: 0.8221\n",
      "Epoch 7/10\n",
      "2130/2130 [==============================] - 2s 1ms/step - loss: 0.5715 - acc: 0.8022 - val_loss: 0.4994 - val_acc: 0.8258\n",
      "Epoch 8/10\n",
      "2130/2130 [==============================] - 2s 1ms/step - loss: 0.5558 - acc: 0.8069 - val_loss: 0.4930 - val_acc: 0.8260\n",
      "Epoch 9/10\n",
      "2130/2130 [==============================] - 2s 999us/step - loss: 0.5465 - acc: 0.8097 - val_loss: 0.4793 - val_acc: 0.8345\n",
      "Epoch 10/10\n",
      "2130/2130 [==============================] - 2s 1ms/step - loss: 0.5347 - acc: 0.8142 - val_loss: 0.4671 - val_acc: 0.8387\n",
      "Model: \"sequential\"\n",
      "_________________________________________________________________\n",
      " Layer (type)                Output Shape              Param #   \n",
      "=================================================================\n",
      " bidirectional (Bidirection  (None, 256)               144384    \n",
      " al)                                                             \n",
      "                                                                 \n",
      " dropout (Dropout)           (None, 256)               0         \n",
      "                                                                 \n",
      " dense (Dense)               (None, 128)               32896     \n",
      "                                                                 \n",
      " dense_1 (Dense)             (None, 7)                 903       \n",
      "                                                                 \n",
      "=================================================================\n",
      "Total params: 178183 (696.03 KB)\n",
      "Trainable params: 178183 (696.03 KB)\n",
      "Non-trainable params: 0 (0.00 Byte)\n",
      "_________________________________________________________________\n",
      "None\n"
     ]
    }
   ],
   "source": [
    "history = model.fit(X_train_hand, y_train_hand, epochs = 10, batch_size = 32, validation_split = 0.1, shuffle = True)\n",
    "print(model.summary())"
   ]
  },
  {
   "cell_type": "code",
   "execution_count": 35,
   "id": "5532a6b8",
   "metadata": {},
   "outputs": [
    {
     "data": {
      "text/plain": [
       "<matplotlib.legend.Legend at 0x29364bfd0>"
      ]
     },
     "execution_count": 35,
     "metadata": {},
     "output_type": "execute_result"
    },
    {
     "data": {
      "image/png": "[encoded data removed]",
      "text/plain": [
       "<Figure size 640x480 with 1 Axes>"
      ]
     },
     "metadata": {},
     "output_type": "display_data"
    }
   ],
   "source": [
    "plt.plot(history.history[\"loss\"], label = \"train\")\n",
    "plt.plot(history.history[\"val_loss\"], label = \"test\")\n",
    "plt.legend()"
   ]
  },
  {
   "cell_type": "code",
   "execution_count": 36,
   "id": "69a8b504",
   "metadata": {},
   "outputs": [
    {
     "name": "stdout",
     "output_type": "stream",
     "text": [
      "789/789 [==============================] - 0s 434us/step - loss: 0.4686 - acc: 0.8376\n",
      "789/789 [==============================] - 0s 357us/step\n"
     ]
    }
   ],
   "source": [
    "model.evaluate(X_test_hand, y_test_hand)\n",
    "y_pred = model.predict(X_test_hand)"
   ]
  },
  {
   "cell_type": "code",
   "execution_count": 37,
   "id": "c8ca3486",
   "metadata": {},
   "outputs": [
    {
     "name": "stdout",
     "output_type": "stream",
     "text": [
      "789/789 [==============================] - 0s 377us/step\n",
      "Confusion Matrix\n",
      "[[4014  154   27    8   13   10   23]\n",
      " [  39 4083   60   11   35   38   52]\n",
      " [  31  126 4481   18  194  315   76]\n",
      " [   7   54   35 1965   50   27   21]\n",
      " [  54   62  225   44 3666   93   72]\n",
      " [  59  140  465   39  154 1509  281]\n",
      " [  75  163  273   24   97  353 1420]]\n"
     ]
    }
   ],
   "source": [
    "from sklearn.metrics import confusion_matrix,classification_report,accuracy_score\n",
    "\n",
    "y_test_arg=np.argmax(y_test_hand,axis=1)\n",
    "Y_pred = np.argmax(model.predict(X_test_hand),axis=1)\n",
    "print('Confusion Matrix')\n",
    "print(confusion_matrix(y_test_arg, Y_pred))"
   ]
  },
  {
   "cell_type": "code",
   "execution_count": 38,
   "id": "5cd652e3",
   "metadata": {},
   "outputs": [
    {
     "name": "stdout",
     "output_type": "stream",
     "text": [
      "789/789 [==============================] - 0s 415us/step - loss: 3.2161 - acc: 0.1997\n",
      "789/789 [==============================] - 0s 380us/step\n"
     ]
    }
   ],
   "source": [
    "model.evaluate(X_test_chest, y_test_chest)\n",
    "y_pred = model.predict(X_test_chest)"
   ]
  },
  {
   "cell_type": "code",
   "execution_count": 39,
   "id": "42be0856",
   "metadata": {},
   "outputs": [
    {
     "name": "stdout",
     "output_type": "stream",
     "text": [
      "CPU times: user 0 ns, sys: 1 µs, total: 1 µs\n",
      "Wall time: 3.1 µs\n",
      "(25235, 1, 12) (25235, 7)\n",
      "789/789 [==============================] - 0s 396us/step - loss: 0.4686 - acc: 0.8376\n",
      "model saved at  D:/HAR/DSADS/CNN_Model.h5\n",
      "Accuracy >83.764613\n",
      "Base Loss >0.47\n"
     ]
    },
    {
     "name": "stderr",
     "output_type": "stream",
     "text": [
      "/var/folders/_y/cmlp5dyd3tdb35r5_kr1z35w0000gn/T/ipykernel_84763/206080926.py:7: UserWarning: You are saving your model as an HDF5 file via `model.save()`. This file format is considered legacy. We recommend using instead the native Keras format, e.g. `model.save('my_model.keras')`.\n",
      "  tf.keras.models.save_model(model, cnn_file, include_optimizer=False)\n"
     ]
    }
   ],
   "source": [
    "%time\n",
    "print(X_test_hand.shape,y_test_hand.shape)\n",
    "base_loss,base_accuracy=model.evaluate(X_test_hand,y_test_hand,batch_size=batch_size,verbose=1)\n",
    "\n",
    "cnn_file='D:/HAR/DSADS/CNN_Model.h5'\n",
    "  \n",
    "tf.keras.models.save_model(model, cnn_file, include_optimizer=False)\n",
    "print('model saved at ', cnn_file)\n",
    "#score,keras_file=evaluate_model(trainX,trainy,testX,testy)\n",
    "score=base_accuracy*100\n",
    "print('Accuracy >{:f}'.format(score))\n",
    "print('Base Loss >{:.2f}'.format(base_loss))"
   ]
  },
  {
   "cell_type": "code",
   "execution_count": 40,
   "id": "e14e3190",
   "metadata": {},
   "outputs": [
    {
     "name": "stdout",
     "output_type": "stream",
     "text": [
      "WARNING:tensorflow:No training configuration found in the save file, so the model was *not* compiled. Compile it manually.\n"
     ]
    }
   ],
   "source": [
    "base_model = keras.models.load_model(cnn_file)"
   ]
  },
  {
   "cell_type": "code",
   "execution_count": 41,
   "id": "351ea574",
   "metadata": {},
   "outputs": [
    {
     "name": "stdout",
     "output_type": "stream",
     "text": [
      "Number of layers in the base model:  4\n"
     ]
    }
   ],
   "source": [
    "print(\"Number of layers in the base model: \", len(base_model.layers))\n",
    "\n",
    "# Fine-tune from this layer onwards\n",
    "fine_tune_at = 3\n",
    "\n",
    "# Freeze all the layers before the `fine_tune_at` layer\n",
    "for layer in base_model.layers[:fine_tune_at]:\n",
    "  layer.trainable =  False\n",
    "\n",
    "new_model = keras.models.Sequential(base_model.layers[:-1])\n",
    "new_model.add(keras.layers.Dense(7, activation='sigmoid'))\n",
    "\n",
    "new_model.compile(loss=\"categorical_crossentropy\",\n",
    "                     optimizer=keras.optimizers.legacy.SGD(learning_rate=1e-3),\n",
    "                     metrics=[\"accuracy\"])"
   ]
  },
  {
   "cell_type": "code",
   "execution_count": 42,
   "id": "18a318ef",
   "metadata": {},
   "outputs": [
    {
     "data": {
      "text/html": [
       "<div>\n",
       "<style scoped>\n",
       "    .dataframe tbody tr th:only-of-type {\n",
       "        vertical-align: middle;\n",
       "    }\n",
       "\n",
       "    .dataframe tbody tr th {\n",
       "        vertical-align: top;\n",
       "    }\n",
       "\n",
       "    .dataframe thead th {\n",
       "        text-align: right;\n",
       "    }\n",
       "</style>\n",
       "<table border=\"1\" class=\"dataframe\">\n",
       "  <thead>\n",
       "    <tr style=\"text-align: right;\">\n",
       "      <th></th>\n",
       "      <th>Layer Type</th>\n",
       "      <th>Layer Name</th>\n",
       "      <th>Layer Trainable</th>\n",
       "    </tr>\n",
       "  </thead>\n",
       "  <tbody>\n",
       "    <tr>\n",
       "      <th>0</th>\n",
       "      <td>&lt;keras.src.layers.rnn.bidirectional.Bidirectio...</td>\n",
       "      <td>bidirectional</td>\n",
       "      <td>False</td>\n",
       "    </tr>\n",
       "    <tr>\n",
       "      <th>1</th>\n",
       "      <td>&lt;keras.src.layers.regularization.dropout.Dropo...</td>\n",
       "      <td>dropout</td>\n",
       "      <td>False</td>\n",
       "    </tr>\n",
       "    <tr>\n",
       "      <th>2</th>\n",
       "      <td>&lt;keras.src.layers.core.dense.Dense object at 0...</td>\n",
       "      <td>dense</td>\n",
       "      <td>False</td>\n",
       "    </tr>\n",
       "    <tr>\n",
       "      <th>3</th>\n",
       "      <td>&lt;keras.src.layers.core.dense.Dense object at 0...</td>\n",
       "      <td>dense_1</td>\n",
       "      <td>True</td>\n",
       "    </tr>\n",
       "  </tbody>\n",
       "</table>\n",
       "</div>"
      ],
      "text/plain": [
       "                                          Layer Type     Layer Name  \\\n",
       "0  <keras.src.layers.rnn.bidirectional.Bidirectio...  bidirectional   \n",
       "1  <keras.src.layers.regularization.dropout.Dropo...        dropout   \n",
       "2  <keras.src.layers.core.dense.Dense object at 0...          dense   \n",
       "3  <keras.src.layers.core.dense.Dense object at 0...        dense_1   \n",
       "\n",
       "   Layer Trainable  \n",
       "0            False  \n",
       "1            False  \n",
       "2            False  \n",
       "3             True  "
      ]
     },
     "execution_count": 42,
     "metadata": {},
     "output_type": "execute_result"
    }
   ],
   "source": [
    "import pandas as pd\n",
    "display_layers = [(layer, layer.name, layer.trainable) for layer in base_model.layers]\n",
    "pd.DataFrame(display_layers, columns=['Layer Type', 'Layer Name', 'Layer Trainable'])"
   ]
  },
  {
   "cell_type": "code",
   "execution_count": 43,
   "id": "1ce5e005",
   "metadata": {},
   "outputs": [
    {
     "name": "stdout",
     "output_type": "stream",
     "text": [
      "Epoch 1/10\n",
      "2130/2130 [==============================] - 2s 595us/step - loss: 1.7970 - accuracy: 0.3323 - val_loss: 1.4405 - val_accuracy: 0.4631\n",
      "Epoch 2/10\n",
      "2130/2130 [==============================] - 1s 488us/step - loss: 1.4054 - accuracy: 0.4758 - val_loss: 1.2912 - val_accuracy: 0.5196\n",
      "Epoch 3/10\n",
      "2130/2130 [==============================] - 1s 488us/step - loss: 1.3080 - accuracy: 0.5092 - val_loss: 1.2203 - val_accuracy: 0.5516\n",
      "Epoch 4/10\n",
      "2130/2130 [==============================] - 1s 492us/step - loss: 1.2538 - accuracy: 0.5295 - val_loss: 1.1779 - val_accuracy: 0.5736\n",
      "Epoch 5/10\n",
      "2130/2130 [==============================] - 1s 508us/step - loss: 1.2185 - accuracy: 0.5432 - val_loss: 1.1477 - val_accuracy: 0.5829\n",
      "Epoch 6/10\n",
      "2130/2130 [==============================] - 1s 501us/step - loss: 1.1924 - accuracy: 0.5515 - val_loss: 1.1246 - val_accuracy: 0.5932\n",
      "Epoch 7/10\n",
      "2130/2130 [==============================] - 1s 524us/step - loss: 1.1743 - accuracy: 0.5585 - val_loss: 1.1077 - val_accuracy: 0.6003\n",
      "Epoch 8/10\n",
      "2130/2130 [==============================] - 1s 490us/step - loss: 1.1578 - accuracy: 0.5654 - val_loss: 1.0922 - val_accuracy: 0.6071\n",
      "Epoch 9/10\n",
      "2130/2130 [==============================] - 1s 489us/step - loss: 1.1449 - accuracy: 0.5709 - val_loss: 1.0798 - val_accuracy: 0.6123\n",
      "Epoch 10/10\n",
      "2130/2130 [==============================] - 1s 488us/step - loss: 1.1363 - accuracy: 0.5744 - val_loss: 1.0696 - val_accuracy: 0.6160\n",
      "Model: \"sequential_1\"\n",
      "_________________________________________________________________\n",
      " Layer (type)                Output Shape              Param #   \n",
      "=================================================================\n",
      " bidirectional (Bidirection  (None, 256)               144384    \n",
      " al)                                                             \n",
      "                                                                 \n",
      " dropout (Dropout)           (None, 256)               0         \n",
      "                                                                 \n",
      " dense (Dense)               (None, 128)               32896     \n",
      "                                                                 \n",
      " dense_2 (Dense)             (None, 7)                 903       \n",
      "                                                                 \n",
      "=================================================================\n",
      "Total params: 178183 (696.03 KB)\n",
      "Trainable params: 903 (3.53 KB)\n",
      "Non-trainable params: 177280 (692.50 KB)\n",
      "_________________________________________________________________\n"
     ]
    }
   ],
   "source": [
    "history2 = new_model.fit(X_train_chest, y_train_chest, epochs=10, batch_size = 32, validation_split = 0.1, shuffle = True)\n",
    "new_model.summary()"
   ]
  },
  {
   "cell_type": "code",
   "execution_count": 45,
   "id": "47ca5f7b",
   "metadata": {},
   "outputs": [
    {
     "name": "stderr",
     "output_type": "stream",
     "text": [
      "/Users/kwonheejin/anaconda3/lib/python3.11/site-packages/keras/src/optimizers/legacy/gradient_descent.py:114: UserWarning: The `lr` argument is deprecated, use `learning_rate` instead.\n",
      "  super().__init__(name, **kwargs)\n"
     ]
    }
   ],
   "source": [
    "base_model.trainable = True\n",
    "new_model.compile(loss=\"categorical_crossentropy\",\n",
    "                     optimizer=keras.optimizers.legacy.SGD(lr=1e-3),\n",
    "                     metrics=[\"accuracy\"])"
   ]
  },
  {
   "cell_type": "code",
   "execution_count": 46,
   "id": "74ba0309",
   "metadata": {},
   "outputs": [
    {
     "data": {
      "text/html": [
       "<div>\n",
       "<style scoped>\n",
       "    .dataframe tbody tr th:only-of-type {\n",
       "        vertical-align: middle;\n",
       "    }\n",
       "\n",
       "    .dataframe tbody tr th {\n",
       "        vertical-align: top;\n",
       "    }\n",
       "\n",
       "    .dataframe thead th {\n",
       "        text-align: right;\n",
       "    }\n",
       "</style>\n",
       "<table border=\"1\" class=\"dataframe\">\n",
       "  <thead>\n",
       "    <tr style=\"text-align: right;\">\n",
       "      <th></th>\n",
       "      <th>Layer Type</th>\n",
       "      <th>Layer Name</th>\n",
       "      <th>Layer Trainable</th>\n",
       "    </tr>\n",
       "  </thead>\n",
       "  <tbody>\n",
       "    <tr>\n",
       "      <th>0</th>\n",
       "      <td>&lt;keras.src.layers.rnn.bidirectional.Bidirectio...</td>\n",
       "      <td>bidirectional</td>\n",
       "      <td>True</td>\n",
       "    </tr>\n",
       "    <tr>\n",
       "      <th>1</th>\n",
       "      <td>&lt;keras.src.layers.regularization.dropout.Dropo...</td>\n",
       "      <td>dropout</td>\n",
       "      <td>True</td>\n",
       "    </tr>\n",
       "    <tr>\n",
       "      <th>2</th>\n",
       "      <td>&lt;keras.src.layers.core.dense.Dense object at 0...</td>\n",
       "      <td>dense</td>\n",
       "      <td>True</td>\n",
       "    </tr>\n",
       "    <tr>\n",
       "      <th>3</th>\n",
       "      <td>&lt;keras.src.layers.core.dense.Dense object at 0...</td>\n",
       "      <td>dense_1</td>\n",
       "      <td>True</td>\n",
       "    </tr>\n",
       "  </tbody>\n",
       "</table>\n",
       "</div>"
      ],
      "text/plain": [
       "                                          Layer Type     Layer Name  \\\n",
       "0  <keras.src.layers.rnn.bidirectional.Bidirectio...  bidirectional   \n",
       "1  <keras.src.layers.regularization.dropout.Dropo...        dropout   \n",
       "2  <keras.src.layers.core.dense.Dense object at 0...          dense   \n",
       "3  <keras.src.layers.core.dense.Dense object at 0...        dense_1   \n",
       "\n",
       "   Layer Trainable  \n",
       "0             True  \n",
       "1             True  \n",
       "2             True  \n",
       "3             True  "
      ]
     },
     "execution_count": 46,
     "metadata": {},
     "output_type": "execute_result"
    }
   ],
   "source": [
    "import pandas as pd\n",
    "display_layers = [(layer, layer.name, layer.trainable) for layer in base_model.layers]\n",
    "pd.DataFrame(display_layers, columns=['Layer Type', 'Layer Name', 'Layer Trainable'])"
   ]
  },
  {
   "cell_type": "code",
   "execution_count": 48,
   "id": "8a6836d4",
   "metadata": {},
   "outputs": [
    {
     "name": "stdout",
     "output_type": "stream",
     "text": [
      "Epoch 1/10\n",
      "2130/2130 [==============================] - 3s 1ms/step - loss: 1.2906 - accuracy: 0.5609 - val_loss: 0.9502 - val_accuracy: 0.6882\n",
      "Epoch 2/10\n",
      "2130/2130 [==============================] - 2s 892us/step - loss: 0.9287 - accuracy: 0.6907 - val_loss: 0.8034 - val_accuracy: 0.7368\n",
      "Epoch 3/10\n",
      "2130/2130 [==============================] - 2s 918us/step - loss: 0.8234 - accuracy: 0.7271 - val_loss: 0.7336 - val_accuracy: 0.7586\n",
      "Epoch 4/10\n",
      "2130/2130 [==============================] - 2s 909us/step - loss: 0.7687 - accuracy: 0.7436 - val_loss: 0.6900 - val_accuracy: 0.7773\n",
      "Epoch 5/10\n",
      "2130/2130 [==============================] - 2s 897us/step - loss: 0.7312 - accuracy: 0.7558 - val_loss: 0.6597 - val_accuracy: 0.7848\n",
      "Epoch 6/10\n",
      "2130/2130 [==============================] - 2s 893us/step - loss: 0.7038 - accuracy: 0.7646 - val_loss: 0.6372 - val_accuracy: 0.7922\n",
      "Epoch 7/10\n",
      "2130/2130 [==============================] - 2s 899us/step - loss: 0.6813 - accuracy: 0.7712 - val_loss: 0.6196 - val_accuracy: 0.7974\n",
      "Epoch 8/10\n",
      "2130/2130 [==============================] - 2s 901us/step - loss: 0.6651 - accuracy: 0.7773 - val_loss: 0.6052 - val_accuracy: 0.8013\n",
      "Epoch 9/10\n",
      "2130/2130 [==============================] - 2s 900us/step - loss: 0.6501 - accuracy: 0.7815 - val_loss: 0.5937 - val_accuracy: 0.8040\n",
      "Epoch 10/10\n",
      "2130/2130 [==============================] - 2s 900us/step - loss: 0.6394 - accuracy: 0.7846 - val_loss: 0.5841 - val_accuracy: 0.8057\n",
      "Model: \"sequential_1\"\n",
      "_________________________________________________________________\n",
      " Layer (type)                Output Shape              Param #   \n",
      "=================================================================\n",
      " bidirectional (Bidirection  (None, 256)               144384    \n",
      " al)                                                             \n",
      "                                                                 \n",
      " dropout (Dropout)           (None, 256)               0         \n",
      "                                                                 \n",
      " dense (Dense)               (None, 128)               32896     \n",
      "                                                                 \n",
      " dense_2 (Dense)             (None, 7)                 903       \n",
      "                                                                 \n",
      "=================================================================\n",
      "Total params: 178183 (696.03 KB)\n",
      "Trainable params: 178183 (696.03 KB)\n",
      "Non-trainable params: 0 (0.00 Byte)\n",
      "_________________________________________________________________\n"
     ]
    }
   ],
   "source": [
    "history2 = new_model.fit(X_train_hand, y_train_hand, epochs=10, batch_size = 32, validation_split = 0.1, shuffle = True)\n",
    "new_model.summary()"
   ]
  },
  {
   "cell_type": "code",
   "execution_count": 49,
   "id": "851a767a",
   "metadata": {},
   "outputs": [
    {
     "data": {
      "image/png": "[encoded data removed]",
      "text/plain": [
       "<Figure size 640x480 with 1 Axes>"
      ]
     },
     "metadata": {},
     "output_type": "display_data"
    }
   ],
   "source": [
    "import matplotlib.pyplot as plt\n",
    "import seaborn as sns\n",
    "\n",
    "loss = history2.history['loss']\n",
    "val_loss = history2.history['val_loss']\n",
    "epochs = range(1, len(loss) + 1)\n",
    "plt.plot(epochs, loss, 'y', label='Training loss')\n",
    "plt.plot(epochs, val_loss, 'r', label='Validation loss')\n",
    "plt.title('Training and validation loss')\n",
    "plt.xlabel('Epochs')\n",
    "plt.ylabel('Loss')\n",
    "plt.legend()\n",
    "plt.show()"
   ]
  },
  {
   "cell_type": "code",
   "execution_count": 50,
   "id": "a1154c29",
   "metadata": {},
   "outputs": [
    {
     "data": {
      "image/png": "[encoded data removed]",
      "text/plain": [
       "<Figure size 640x480 with 1 Axes>"
      ]
     },
     "metadata": {},
     "output_type": "display_data"
    }
   ],
   "source": [
    "acc = history2.history['accuracy']\n",
    "val_acc = history2.history['val_accuracy']\n",
    "plt.plot(epochs, acc, 'y', label='Training acc')\n",
    "plt.plot(epochs, val_acc, 'r', label='Validation acc')\n",
    "plt.title('Training and validation accuracy')\n",
    "plt.xlabel('Epochs')\n",
    "plt.ylabel('Accuracy')\n",
    "plt.legend()\n",
    "plt.show()"
   ]
  },
  {
   "cell_type": "code",
   "execution_count": 52,
   "id": "cc8ac6e7",
   "metadata": {},
   "outputs": [
    {
     "name": "stdout",
     "output_type": "stream",
     "text": [
      "789/789 [==============================] - 0s 394us/step - loss: 0.5810 - accuracy: 0.8044\n",
      "789/789 [==============================] - 0s 352us/step\n"
     ]
    }
   ],
   "source": [
    "new_model.evaluate(X_test_hand, y_test_hand)\n",
    "y_pred = new_model.predict(X_test_hand)"
   ]
  }
 ],
 "metadata": {
  "kernelspec": {
   "display_name": "Python 3 (ipykernel)",
   "language": "python",
   "name": "python3"
  },
  "language_info": {
   "codemirror_mode": {
    "name": "ipython",
    "version": 3
   },
   "file_extension": ".py",
   "mimetype": "text/x-python",
   "name": "python",
   "nbconvert_exporter": "python",
   "pygments_lexer": "ipython3",
   "version": "3.11.4"
  }
 },
 "nbformat": 4,
 "nbformat_minor": 5
}
